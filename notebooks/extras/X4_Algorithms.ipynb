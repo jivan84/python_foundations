{
 "cells": [
  {
   "cell_type": "markdown",
   "id": "bc99a06f-cf86-40a7-821e-279189472b08",
   "metadata": {
    "colab_type": "text",
    "id": "view-in-github"
   },
   "source": [
    "<a href=\"https://colab.research.google.com/github/wesleybeckner/python_foundations/blob/main/notebooks/extras/X4_Algorithms.ipynb\" target=\"_parent\"><img src=\"https://colab.research.google.com/assets/colab-badge.svg\" alt=\"Open In Colab\"/></a>"
   ]
  },
  {
   "cell_type": "markdown",
   "id": "e44af465-b5bf-4fcb-9002-f465a5eebca5",
   "metadata": {
    "id": "ZhMpsTQGPQIm"
   },
   "source": [
    "# Python Foundations <br> X4: Algorithms\n",
    "\n",
    "**Instructor**: Wesley Beckner\n",
    "\n",
    "**Contact**: wesleybeckner@gmail.com\n",
    "\n",
    "---\n",
    "\n",
    "<br>\n",
    "\n",
    "This notebook covers common algorithms throughout computer programming\n",
    "\n",
    "<br>\n",
    "\n",
    "---\n"
   ]
  },
  {
   "cell_type": "markdown",
   "id": "62a3cc91-cdcb-4ca3-96fe-329440a4d3d5",
   "metadata": {},
   "source": [
    "## Greedy"
   ]
  },
  {
   "cell_type": "markdown",
   "id": "b00f3679-7e5f-4bb4-8172-9f77786a4260",
   "metadata": {},
   "source": [
    "You were given a list of jobs with start time and end times. You can only do one job at any time. To complete a job, you have to start it at the start time and work until completion. What is the maximum amount of jobs that can be completed? (Activity Selection)"
   ]
  },
  {
   "cell_type": "code",
   "execution_count": 1,
   "id": "68f44c20-fe32-4f83-85af-384d557e1fb9",
   "metadata": {},
   "outputs": [],
   "source": [
    "data1 = [(1,2),(5,7),(3,4),(0,6),(5,9),(8,9)]\n",
    "data2 = [(20,30),(10,15),(12,30)]"
   ]
  },
  {
   "cell_type": "code",
   "execution_count": 2,
   "id": "226f6889-5692-4e25-9cf7-ef6330c07e3e",
   "metadata": {},
   "outputs": [],
   "source": [
    "def greedy_get_max(data):\n",
    "    data = sorted(data, key= lambda x: x[1])\n",
    "    jobend = data[0][1]\n",
    "    jobs = 1\n",
    "    for start, end in data[1:]:\n",
    "        if start > jobend:\n",
    "            jobs += 1\n",
    "            jobend = start\n",
    "    return jobs"
   ]
  },
  {
   "cell_type": "code",
   "execution_count": 3,
   "id": "76ef9e29-e28e-4c6f-af54-cf6eceb75ce3",
   "metadata": {},
   "outputs": [
    {
     "data": {
      "text/plain": [
       "4"
      ]
     },
     "execution_count": 3,
     "metadata": {},
     "output_type": "execute_result"
    }
   ],
   "source": [
    "greedy_get_max(data1)"
   ]
  },
  {
   "cell_type": "code",
   "execution_count": 4,
   "id": "6f3f874f-b73c-47a9-9c08-4bd291fee267",
   "metadata": {},
   "outputs": [
    {
     "data": {
      "text/plain": [
       "2"
      ]
     },
     "execution_count": 4,
     "metadata": {},
     "output_type": "execute_result"
    }
   ],
   "source": [
    "greedy_get_max(data2)"
   ]
  },
  {
   "cell_type": "markdown",
   "id": "7ab7cf25-3f31-42b1-a411-06813eea1136",
   "metadata": {},
   "source": [
    "You have been given n items. The weights and values of these n items are also given. You must fill a knapsack of capacity W\n",
    "W\n",
    " in such a way that it contains the maximum value. Items can be added in the knapsack fractionally. If the item’s fraction is added, only that fraction value will be taken in the final value calculation. (Fractional Knapsack)\n",
    "\n",
    "Consider these items: [(60,10), (120, 30), (100,20)]. The first item of each tuple is the value of the item. The second item is its weight. We have to fill a knapsack with a capacity of 50."
   ]
  },
  {
   "cell_type": "code",
   "execution_count": 5,
   "id": "99321e8a-ad21-4633-ad98-70c85590785e",
   "metadata": {},
   "outputs": [],
   "source": [
    "data = [(60,10), (120, 30), (100,20)]\n",
    "wtlim = 50"
   ]
  },
  {
   "cell_type": "code",
   "execution_count": 6,
   "id": "fc9208f7-aa6e-4553-9a4b-9c15b3c4a6a1",
   "metadata": {},
   "outputs": [],
   "source": [
    "def greedy_knapsack(data, wtlim):\n",
    "    data = sorted(data, key = lambda x: x[0]/x[1], reverse=True)\n",
    "    totweight = 0\n",
    "    totval = 0\n",
    "    for val, wt in data:\n",
    "        if wt + totweight < wtlim:\n",
    "            totval += val\n",
    "            totweight += wt\n",
    "        else:\n",
    "            frac = (wtlim - totweight) / wt\n",
    "            totval += frac * val\n",
    "            totweight += frac * wt\n",
    "    return totval"
   ]
  },
  {
   "cell_type": "code",
   "execution_count": 7,
   "id": "cc65102c-d3e1-48e4-ac3e-208b746e6e1c",
   "metadata": {},
   "outputs": [
    {
     "data": {
      "text/plain": [
       "240.0"
      ]
     },
     "execution_count": 7,
     "metadata": {},
     "output_type": "execute_result"
    }
   ],
   "source": [
    "greedy_knapsack(data, wtlim)"
   ]
  },
  {
   "cell_type": "markdown",
   "id": "c8b5ba6a-f74b-4ba7-bd14-1287814c1afb",
   "metadata": {},
   "source": [
    "## Divide and Conquer\n",
    "\n",
    "Several other algorithms follow this technique: merge and quick sort, binary search, and matrix multiplication\n",
    "\n",
    "We have a list (or array) of sorted numbers, and we must create a function that takes this list and a number. It should return True if the number exists in the list; otherwise, it should return False."
   ]
  },
  {
   "cell_type": "code",
   "execution_count": 8,
   "id": "409546d3-758b-42c9-8078-537556549691",
   "metadata": {},
   "outputs": [],
   "source": [
    "data, number = [2, 5, 8, 12, 45], 13"
   ]
  },
  {
   "cell_type": "code",
   "execution_count": 9,
   "id": "00dddbac-1e23-418b-88e4-d51e93de3395",
   "metadata": {},
   "outputs": [],
   "source": [
    "def find_item(data, number):\n",
    "    for item in data:\n",
    "        if item == number:\n",
    "            return True\n",
    "    return False"
   ]
  },
  {
   "cell_type": "code",
   "execution_count": 10,
   "id": "a25dd87d-923a-4724-84c3-236e2e4760b9",
   "metadata": {},
   "outputs": [
    {
     "data": {
      "text/plain": [
       "True"
      ]
     },
     "execution_count": 10,
     "metadata": {},
     "output_type": "execute_result"
    }
   ],
   "source": [
    "data, number = [2, 5, 8, 12, 45], 12\n",
    "find_item(data, number)"
   ]
  },
  {
   "cell_type": "code",
   "execution_count": 11,
   "id": "373ee85e-19a2-4161-8f43-13e7a3eb4389",
   "metadata": {},
   "outputs": [
    {
     "name": "stdout",
     "output_type": "stream",
     "text": [
      "453 ns ± 51.1 ns per loop (mean ± std. dev. of 7 runs, 1,000,000 loops each)\n"
     ]
    }
   ],
   "source": [
    "%%timeit\n",
    "data, number = [2, 5, 8, 12, 45], 13\n",
    "find_item(data, number)"
   ]
  },
  {
   "cell_type": "markdown",
   "id": "76afa625-1e53-4bc9-8262-9ba048393958",
   "metadata": {},
   "source": [
    "time complexity: \\\\(O(n)\\\\)"
   ]
  },
  {
   "cell_type": "code",
   "execution_count": 12,
   "id": "0aa6ef1b-7d1f-45c8-8a57-cb8de4c7b1b1",
   "metadata": {},
   "outputs": [],
   "source": [
    "def find_item(data, number):\n",
    "    data.sort()\n",
    "    idx = int(len(data)/2)\n",
    "    item = data[idx]\n",
    "    if item == number:\n",
    "        return True\n",
    "    elif idx != 0:\n",
    "        if number < item:\n",
    "            return find_item(data[:idx], number)\n",
    "        elif number > item:\n",
    "            return find_item(data[idx+1:], number)\n",
    "    return False"
   ]
  },
  {
   "cell_type": "code",
   "execution_count": 13,
   "id": "b39c1c05-a9b1-407c-a9c7-22e1f898c411",
   "metadata": {},
   "outputs": [
    {
     "data": {
      "text/plain": [
       "True"
      ]
     },
     "execution_count": 13,
     "metadata": {},
     "output_type": "execute_result"
    }
   ],
   "source": [
    "data, number = [2, 5, 8, 12, 45], 12\n",
    "find_item(data, number)"
   ]
  },
  {
   "cell_type": "code",
   "execution_count": 14,
   "id": "b736e65e-f7a4-4ecd-90c6-2411f060909b",
   "metadata": {},
   "outputs": [
    {
     "name": "stdout",
     "output_type": "stream",
     "text": [
      "1.91 µs ± 309 ns per loop (mean ± std. dev. of 7 runs, 100,000 loops each)\n"
     ]
    }
   ],
   "source": [
    "%%timeit\n",
    "data, number = [2, 5, 8, 12, 45], 13\n",
    "find_item(data, number)"
   ]
  },
  {
   "cell_type": "markdown",
   "id": "94435cd9-a3de-48ff-931c-342c08c0177e",
   "metadata": {},
   "source": [
    "time complexity: \\\\(O(logn)\\\\)"
   ]
  },
  {
   "cell_type": "markdown",
   "id": "75f3743f-228e-403e-820d-4d5c8924995c",
   "metadata": {},
   "source": [
    "## Backtracking\n",
    "\n",
    "You have been given N-Queens and a chess dashboard (NxN). You have to place the queens in a way that no queen can attack another. A queen can attack diagonally as well as straight in any direction. If you have four queens, one solution could look like this:\n",
    "\n",
    "| A | B | C | D |\n",
    "|---|---|---|---|\n",
    "| _ | Q | _ | _ |\n",
    "| _ | _ | _ | Q |\n",
    "| Q | _ | _ | _ |\n",
    "| _ | _ | Q | _ |\n",
    "\n",
    "For this solution, we should go row by row, placing a queen. If a solution cannot be found we _backtrack_ to the previous row and move the queen, and proceed again. Let's give it a gander."
   ]
  },
  {
   "cell_type": "code",
   "execution_count": 15,
   "id": "a653640c-df15-491b-9239-f23487fda326",
   "metadata": {},
   "outputs": [
    {
     "data": {
      "text/plain": [
       "[['Q', ' ', ' ', ' '],\n",
       " [' ', ' ', ' ', ' '],\n",
       " [' ', ' ', ' ', ' '],\n",
       " [' ', ' ', ' ', ' ']]"
      ]
     },
     "execution_count": 15,
     "metadata": {},
     "output_type": "execute_result"
    }
   ],
   "source": [
    "# first thing we're going to do here is play around with\n",
    "# a board representation and a method for looping through\n",
    "# a row\n",
    "\n",
    "N = 4\n",
    "\n",
    "# build board\n",
    "board = []\n",
    "for i in range(N):\n",
    "    board.append([])\n",
    "    for j in range(N):\n",
    "        board[i].append(' ')\n",
    "        \n",
    "# initiate current row\n",
    "row = 0\n",
    "col = 0\n",
    "for idx, i in enumerate(board[row]):\n",
    "    if i == ' ':\n",
    "        board[row][idx] = 'Q'\n",
    "        col = idx\n",
    "        break\n",
    "        \n",
    "board"
   ]
  },
  {
   "cell_type": "markdown",
   "id": "f488e3a6-d487-42c1-a225-a059fa684771",
   "metadata": {},
   "source": [
    "Now that we have those building blocks, lets add a function that checks for queen on queen conflicts"
   ]
  },
  {
   "cell_type": "code",
   "execution_count": 16,
   "id": "ccd2567a-c4c9-4edc-8a5b-1acbaae8d153",
   "metadata": {},
   "outputs": [],
   "source": [
    "def check_conflict(board, row, col):       \n",
    "    # check conflict, only need to check above \n",
    "    # because we are building from top down\n",
    "    # to check: left top, right top, top vert\n",
    "    \n",
    "    # top left\n",
    "    irow = row - 1\n",
    "    icol = col - 1\n",
    "    while irow >= 0 and icol >= 0:\n",
    "        if board[irow][icol] == 'Q':\n",
    "            return False\n",
    "        irow -= 1\n",
    "        icol -= 1\n",
    "\n",
    "    # top right\n",
    "    irow = row - 1\n",
    "    icol = col + 1\n",
    "    while irow >= 0 and icol < N:\n",
    "        if board[irow][icol] == 'Q':\n",
    "            return False\n",
    "        irow -= 1\n",
    "        icol += 1\n",
    "\n",
    "    # top vert\n",
    "    irow = row - 1\n",
    "    icol = col\n",
    "    while irow >= 0:\n",
    "        if board[irow][icol] == 'Q':\n",
    "            return False\n",
    "        irow -= 1\n",
    "        \n",
    "    return True"
   ]
  },
  {
   "cell_type": "markdown",
   "id": "db454e9c-afd0-496c-9086-07b6ccd07fed",
   "metadata": {},
   "source": [
    "Now that we have our `check_conflict` function, let's test it!"
   ]
  },
  {
   "cell_type": "code",
   "execution_count": 17,
   "id": "f399da06-0f04-40db-bde5-8236a21361aa",
   "metadata": {},
   "outputs": [
    {
     "data": {
      "text/plain": [
       "[[' ', ' ', ' ', ' '],\n",
       " ['Q', ' ', ' ', ' '],\n",
       " ['X', 'X', 'Q', ' '],\n",
       " [' ', ' ', ' ', ' ']]"
      ]
     },
     "execution_count": 17,
     "metadata": {},
     "output_type": "execute_result"
    }
   ],
   "source": [
    "N = 4\n",
    "\n",
    "# build board we will go ahead and functionalize as well\n",
    "# since we will be reusing it!\n",
    "def build_board(Ncol, Nrow):\n",
    "    board = []\n",
    "    for i in range(Nrow):\n",
    "        board.append([])\n",
    "        for j in range(Ncol):\n",
    "            board[i].append(' ')\n",
    "    return board\n",
    "\n",
    "# lets make a board and place a queen\n",
    "board = build_board(N, N)\n",
    "board[1][0] = 'Q'\n",
    "\n",
    "# let's imagine now that we are on to the next row\n",
    "row = 2\n",
    "for idx, i in enumerate(board[row]):\n",
    "    if check_conflict(board, row, idx):\n",
    "        board[row][idx] = 'Q'\n",
    "        col = idx\n",
    "        break\n",
    "    \n",
    "    else:\n",
    "        board[row][idx] = 'X'\n",
    "        \n",
    "board"
   ]
  },
  {
   "cell_type": "markdown",
   "id": "8c6a3a25-d8d5-4819-ad2c-dc3e2546b8cc",
   "metadata": {},
   "source": [
    "Great! Looks like our `check_conflict` function is working as intended. Now let's package everything into `place_queen` where we will recursively solve this puzzle."
   ]
  },
  {
   "cell_type": "code",
   "execution_count": 24,
   "id": "e3da24c3-e62b-46a5-96cc-2a5a298d7dd2",
   "metadata": {},
   "outputs": [],
   "source": [
    "def place_queen(board, row, queens):\n",
    "    \n",
    "    # here we search on the row for an open spot that is\n",
    "    # backward (prev row) compatible\n",
    "    row_complete = False\n",
    "    for idx, i in enumerate(board[row]):\n",
    "        if board[row][idx] != 'X' and check_conflict(board, row, idx):\n",
    "            board[row][idx] = 'Q'\n",
    "            queens.append((row,idx))\n",
    "            row_complete = True\n",
    "            break\n",
    "        else:\n",
    "            board[row][idx] = 'X'\n",
    "            \n",
    "    if row_complete and row < N-1:\n",
    "        # nice we completed a row!\n",
    "        place_queen(board, row+1, queens)\n",
    "        \n",
    "    elif row_complete and row == N-1:\n",
    "        # yay we solved the whole board!\n",
    "        for i in range(N):\n",
    "            for j in range(N):\n",
    "                board[i][j] = board[i][j].replace(\"X\", \" \")\n",
    "        display(board)\n",
    "        return board\n",
    "  \n",
    "    else:\n",
    "        # we need to find out how far we must back track\n",
    "        # if the whole row is filled with X or Q, we must\n",
    "        # scrap it!\n",
    "        for redo in range(row-1, -1, -1):\n",
    "            if ' ' in board[redo]:\n",
    "                break\n",
    "            # and update the queen soln while we are at it\n",
    "            queens.pop()\n",
    "        \n",
    "        # the queen on the last OK row is now an X\n",
    "        board[redo][queens[redo][1]] = 'X'\n",
    "        queens.pop()\n",
    "        \n",
    "        # and everything below it is swiped\n",
    "        board[redo+1:] = build_board(N, N-(redo+1))\n",
    "        \n",
    "        # and we start forward again\n",
    "        place_queen(board, redo, queens)"
   ]
  },
  {
   "cell_type": "code",
   "execution_count": 25,
   "id": "72ebcc74-e16a-43c4-baab-843b3deffc64",
   "metadata": {},
   "outputs": [
    {
     "data": {
      "text/plain": [
       "[['Q', ' ', ' ', ' ', ' '],\n",
       " [' ', ' ', 'Q', ' ', ' '],\n",
       " [' ', ' ', ' ', ' ', 'Q'],\n",
       " [' ', 'Q', ' ', ' ', ' '],\n",
       " [' ', ' ', ' ', 'Q', ' ']]"
      ]
     },
     "metadata": {},
     "output_type": "display_data"
    }
   ],
   "source": [
    "N = 5\n",
    "board = build_board(N, N)\n",
    "queens = []\n",
    "place_queen(board, 0, queens)"
   ]
  },
  {
   "cell_type": "code",
   "execution_count": 26,
   "id": "331fcf44-db71-4aa3-90e7-f1fb72d209bb",
   "metadata": {},
   "outputs": [
    {
     "data": {
      "text/plain": [
       "[(0, 0), (1, 2), (2, 4), (3, 1), (4, 3)]"
      ]
     },
     "execution_count": 26,
     "metadata": {},
     "output_type": "execute_result"
    }
   ],
   "source": [
    "queens"
   ]
  },
  {
   "cell_type": "markdown",
   "id": "e8ddd152-83b6-4605-850f-f8c6351a549e",
   "metadata": {},
   "source": [
    "## Dynamic Programming\n",
    "\n",
    "Given two sequences, find the length of the largest common subsequence. A sub-sequence should appear in both sequences in the same order, but they do not need to be continuous.\n",
    "\n",
    "Here is an example. Consider two strings:‘ASDF’ and ‘ASFS’. The length of the largest common subsequence is 3 (ASF). See more examples below:\n",
    "\n",
    "S1 = ‘ABHISHEK’ and S2=’ANKITA’ => LCS = 2 (AI)\n",
    "\n",
    "S1 = 'association' and S2='connection' => LCS=6(oction)"
   ]
  },
  {
   "cell_type": "markdown",
   "id": "7160bae1-6aaf-400e-9b26-bc4b97f975bb",
   "metadata": {},
   "source": [
    "**the recursive solution:**"
   ]
  },
  {
   "cell_type": "code",
   "execution_count": 160,
   "id": "bfbcd6ea-46f5-4506-980d-44b0a0b2aa6a",
   "metadata": {},
   "outputs": [],
   "source": [
    "def lcs(s1, s2, p, q):\n",
    "    if p == -1 or q == -1:\n",
    "        return 0\n",
    "    elif s1[p] == s2[q]:\n",
    "        # if the elements are euqal, we are going to take this solution\n",
    "        # and continue searching for its maximum possible end\n",
    "        return 1 + lcs(s1, s2, p-1, q-1)\n",
    "    else:\n",
    "        # where things get interesting.. we now search across two paths\n",
    "        # either chomping off (skipping) elements in s1 or s2\n",
    "        # and sending up in the recursive tree that which is maximum\n",
    "        return max(lcs(s1, s2, p-1, q), lcs(s1, s2, p, q-1))"
   ]
  },
  {
   "cell_type": "code",
   "execution_count": 161,
   "id": "ca5d1d78-f278-4df4-9fb4-c9f23b0b7c8e",
   "metadata": {},
   "outputs": [
    {
     "data": {
      "text/plain": [
       "3"
      ]
     },
     "execution_count": 161,
     "metadata": {},
     "output_type": "execute_result"
    }
   ],
   "source": [
    "S1 = 'ASDF'\n",
    "S2 = 'ASEF'\n",
    "lcs(S1, S2, len(S1)-1, len(S2)-1)"
   ]
  },
  {
   "cell_type": "code",
   "execution_count": 162,
   "id": "cd760070-9f78-454a-834e-0f9c45437f06",
   "metadata": {},
   "outputs": [
    {
     "data": {
      "text/plain": [
       "2"
      ]
     },
     "execution_count": 162,
     "metadata": {},
     "output_type": "execute_result"
    }
   ],
   "source": [
    "S1 = 'ABHISHEK'\n",
    "S2 = 'ANKITA'\n",
    "lcs(S1, S2, len(S1)-1, len(S2)-1)"
   ]
  },
  {
   "cell_type": "markdown",
   "id": "c5f03cc9-8cd8-4480-8adf-932a4305eb3a",
   "metadata": {},
   "source": [
    "**the dynamic solution:**"
   ]
  },
  {
   "cell_type": "code",
   "execution_count": 185,
   "id": "a41bff39-a926-43bd-bf84-13cca48cdcd8",
   "metadata": {},
   "outputs": [],
   "source": [
    "def lcs(s1, s2):\n",
    "    t = []\n",
    "    for i in range(len(s1)):\n",
    "        t.append([])\n",
    "        for j in range(len(s2)):\n",
    "            t[i].append(0)\n",
    "\n",
    "    for i in range(len(s1)):\n",
    "        for j in range(len(s2)):\n",
    "            if s1[i] == s2[j]:\n",
    "                # if the puppies match, add 1 to the previous\n",
    "                # substring value\n",
    "                t[i][j] = 1 + t[i-1][j-1]\n",
    "            else:\n",
    "                # if they dont match, carry over the max value\n",
    "                # from the previous substrings\n",
    "                t[i][j] = max(t[i][j-1], t[i-1][j])\n",
    "    display(t)\n",
    "    return t[i][j]"
   ]
  },
  {
   "cell_type": "code",
   "execution_count": 188,
   "id": "463a5aaf-0a56-4432-8280-303e70029bdf",
   "metadata": {},
   "outputs": [
    {
     "data": {
      "text/plain": [
       "[[1, 1, 1, 1, 1],\n",
       " [1, 2, 2, 2, 2],\n",
       " [1, 2, 2, 2, 2],\n",
       " [1, 2, 2, 3, 3],\n",
       " [1, 2, 2, 3, 3]]"
      ]
     },
     "metadata": {},
     "output_type": "display_data"
    },
    {
     "data": {
      "text/plain": [
       "3"
      ]
     },
     "execution_count": 188,
     "metadata": {},
     "output_type": "execute_result"
    }
   ],
   "source": [
    "S1 = 'ASDFT'\n",
    "S2 = 'ASEFJ'\n",
    "lcs(S1, S2)"
   ]
  },
  {
   "cell_type": "code",
   "execution_count": 189,
   "id": "2b0ae154-3e3b-4467-ae57-60893e909081",
   "metadata": {},
   "outputs": [
    {
     "data": {
      "text/plain": [
       "[[1, 1, 1, 1, 1, 1],\n",
       " [1, 1, 1, 1, 1, 1],\n",
       " [1, 1, 1, 1, 1, 1],\n",
       " [1, 1, 1, 2, 2, 2],\n",
       " [1, 1, 1, 2, 2, 2],\n",
       " [1, 1, 1, 2, 2, 2],\n",
       " [1, 1, 1, 2, 2, 2],\n",
       " [1, 1, 2, 2, 2, 2]]"
      ]
     },
     "metadata": {},
     "output_type": "display_data"
    },
    {
     "data": {
      "text/plain": [
       "2"
      ]
     },
     "execution_count": 189,
     "metadata": {},
     "output_type": "execute_result"
    }
   ],
   "source": [
    "S1 = 'ABHISHEK'\n",
    "S2 = 'ANKITA'\n",
    "lcs(S1, S2)"
   ]
  }
 ],
 "metadata": {
  "kernelspec": {
   "display_name": "Python 3 (ipykernel)",
   "language": "python",
   "name": "python3"
  },
  "language_info": {
   "codemirror_mode": {
    "name": "ipython",
    "version": 3
   },
   "file_extension": ".py",
   "mimetype": "text/x-python",
   "name": "python",
   "nbconvert_exporter": "python",
   "pygments_lexer": "ipython3",
   "version": "3.9.7"
  }
 },
 "nbformat": 4,
 "nbformat_minor": 5
}
