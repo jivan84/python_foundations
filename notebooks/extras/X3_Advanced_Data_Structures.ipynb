{
 "cells": [
  {
   "cell_type": "markdown",
   "id": "fbcab520-506b-4af4-95dc-9c01a1855675",
   "metadata": {
    "colab_type": "text",
    "id": "view-in-github"
   },
   "source": [
    "<a href=\"https://colab.research.google.com/github/wesleybeckner/python_foundations/blob/main/notebooks/extras/X3_Advanced_Data_Structures.ipynb\" target=\"_parent\"><img src=\"https://colab.research.google.com/assets/colab-badge.svg\" alt=\"Open In Colab\"/></a>"
   ]
  },
  {
   "cell_type": "markdown",
   "id": "a1b53416-6194-4bdc-a73c-d30510052d95",
   "metadata": {
    "id": "ZhMpsTQGPQIm"
   },
   "source": [
    "# Python Foundations <br> X3: Advanced Data Structures\n",
    "\n",
    "**Instructor**: Wesley Beckner\n",
    "\n",
    "**Contact**: wesleybeckner@gmail.com\n",
    "\n",
    "---\n",
    "\n",
    "<br>\n",
    "\n",
    "This notebook covers additional data structures common throughout programming languages.\n",
    "\n",
    "<br>\n",
    "\n",
    "---\n"
   ]
  },
  {
   "cell_type": "markdown",
   "id": "cfa0b212-b0ef-4a1e-aa33-39f40e509c17",
   "metadata": {},
   "source": [
    "## Q1 Lists\n",
    "\n",
    "You have N people standing in a line. Each person has a rank. They are standing in random order. We have to find the captains in the line. A person is a captain if their rank is higher than all the others standing to the right of them in the line. For example, if we are given the ranks as [3,7,5,2,4] then the captains are 7,5, and 4. How can you find all the captains in the line?"
   ]
  },
  {
   "cell_type": "code",
   "execution_count": 1,
   "id": "187b1233-36f0-4c49-9caf-fb361cee164e",
   "metadata": {},
   "outputs": [],
   "source": [
    "ls = [3,7,5,2,4]"
   ]
  },
  {
   "cell_type": "code",
   "execution_count": 19,
   "id": "e8e02ca5-665b-4548-bce2-896467c6039b",
   "metadata": {},
   "outputs": [],
   "source": [
    "import numpy as np"
   ]
  },
  {
   "cell_type": "code",
   "execution_count": 24,
   "id": "795f6986-dfba-422e-9e35-89bdc6a15243",
   "metadata": {},
   "outputs": [],
   "source": [
    "def soln1(ls):\n",
    "    captains = []\n",
    "    for index, item in enumerate(ls):\n",
    "        to_right = ls[index+1:]\n",
    "        if (np.array([item]*len(to_right)) > np.array(to_right)).all():\n",
    "            captains += [item]\n",
    "    return captains"
   ]
  },
  {
   "cell_type": "code",
   "execution_count": 25,
   "id": "1f35f7be-2fcf-4d99-87f4-74b02d48f86c",
   "metadata": {},
   "outputs": [
    {
     "name": "stdout",
     "output_type": "stream",
     "text": [
      "26.7 µs ± 2.05 µs per loop (mean ± std. dev. of 7 runs, 10,000 loops each)\n"
     ]
    }
   ],
   "source": [
    "%%timeit\n",
    "soln1(ls)"
   ]
  },
  {
   "cell_type": "markdown",
   "id": "1b16d1e4-08f2-4970-9a72-e65991347c4e",
   "metadata": {},
   "source": [
    "* time complexity: \\\\(O(n^2)\\\\)\n",
    "* space complexity: \\\\(O(1)\\\\)"
   ]
  },
  {
   "cell_type": "code",
   "execution_count": 27,
   "id": "d5e30700-284d-453a-a30a-0dcfeb9f32f5",
   "metadata": {},
   "outputs": [],
   "source": [
    "def soln2(ls):\n",
    "    captains = []\n",
    "    maxval = ls[-1]\n",
    "    captains += [maxval]\n",
    "    for item in ls[::-1]:\n",
    "        if item > maxval:\n",
    "            maxval = item\n",
    "            captains += [maxval]\n",
    "    return captains"
   ]
  },
  {
   "cell_type": "code",
   "execution_count": 28,
   "id": "92976d6b-4382-48af-b169-d43d182e1361",
   "metadata": {},
   "outputs": [
    {
     "name": "stdout",
     "output_type": "stream",
     "text": [
      "593 ns ± 32.2 ns per loop (mean ± std. dev. of 7 runs, 1,000,000 loops each)\n"
     ]
    }
   ],
   "source": [
    "%%timeit\n",
    "soln2(ls)"
   ]
  },
  {
   "cell_type": "markdown",
   "id": "ad37c229-a145-45f2-88cc-728f70938775",
   "metadata": {},
   "source": [
    "* time complexity: \\\\(O(n)\\\\)\n",
    "* space complexity: \\\\(O(1)\\\\)"
   ]
  },
  {
   "cell_type": "markdown",
   "id": "8463f2b6-f600-498a-8be8-c534d78f0190",
   "metadata": {},
   "source": [
    "## Q2 Linked Lists\n",
    "\n",
    "Create a linked list class in Python"
   ]
  },
  {
   "cell_type": "code",
   "execution_count": 29,
   "id": "742fcdfb-ed6c-49de-a883-1580058cee74",
   "metadata": {},
   "outputs": [
    {
     "name": "stdout",
     "output_type": "stream",
     "text": [
      "A\n",
      "B\n",
      "C\n"
     ]
    }
   ],
   "source": [
    "#Create a Node class\n",
    "class Node: \n",
    "  \n",
    "    def __init__(self, key):\n",
    "\n",
    "        #Assign the key to the node \n",
    "        self.key = key\n",
    "\n",
    "        #Mark default as Null\n",
    "        self.next = None \n",
    "  \n",
    "class LinkedList: \n",
    "  \n",
    "  # Initialize the head pointer to None \n",
    "  def __init__(self): \n",
    "    self.head = None\n",
    "  \n",
    "  #Print the list till all elements are not processed\n",
    "  def getlist(self): \n",
    "    process = self.head \n",
    "    while (process): \n",
    "      print(process.key) \n",
    "      process = process.next\n",
    "  \n",
    "#Declare a list\n",
    "flist = LinkedList() \n",
    "\n",
    "#Set the head pointer\n",
    "flist.head = Node('A')\n",
    "\n",
    "#Create more nodes\n",
    "second = Node('B') \n",
    "third = Node('C') \n",
    "\n",
    "#Link first node to second\n",
    "flist.head.next = second\n",
    "#Link second node to third\n",
    "second.next = third\n",
    "  \n",
    "#Print the complete list\n",
    "flist.getlist() "
   ]
  },
  {
   "cell_type": "markdown",
   "id": "38d542a7-1910-479b-9c6c-fc2f59dfbc06",
   "metadata": {},
   "source": [
    "## Q3 Stacks (LIFO)\n",
    "\n",
    "You have been given n non-negative numbers. You have to find the first next greater element for each of these n numbers. For the last element, the next greater element is -1.\n",
    "\n",
    "Consider the example list [5,34,4,46,2]\n",
    "\n",
    "* 5: 34\n",
    "* 34: 46\n",
    "* 4: 46\n",
    "* 46: -1\n",
    "* 2: -1\n",
    "\n",
    "Consider one more example [9,8,5,7,1]\n",
    "\n",
    "* 9: -1\n",
    "* 8: -1\n",
    "* 5: 7\n",
    "* 7: -1\n",
    "* 1: -1"
   ]
  },
  {
   "cell_type": "code",
   "execution_count": 41,
   "id": "e5c77cc5-b395-4725-934b-34fb3cba27dd",
   "metadata": {},
   "outputs": [
    {
     "data": {
      "text/plain": [
       "[46, 4, 34, 5]"
      ]
     },
     "execution_count": 41,
     "metadata": {},
     "output_type": "execute_result"
    }
   ],
   "source": [
    "ls[-2::-1]"
   ]
  },
  {
   "cell_type": "code",
   "execution_count": 44,
   "id": "5b763322-d568-4b87-98d6-3108a23495f3",
   "metadata": {},
   "outputs": [
    {
     "data": {
      "text/plain": [
       "[34, 46, 46, -1, -1]"
      ]
     },
     "execution_count": 44,
     "metadata": {},
     "output_type": "execute_result"
    }
   ],
   "source": [
    "ls = [5, 34, 4, 46, 2]\n",
    "ans = []\n",
    "for idx, item in enumerate(ls):\n",
    "    for item2 in ls[idx:]:\n",
    "        if item2 > item:\n",
    "            ans.append(item2)\n",
    "            found = True\n",
    "            break\n",
    "    if found:\n",
    "        found = False\n",
    "        continue\n",
    "    else:\n",
    "        ans.append(-1)\n",
    "ans"
   ]
  },
  {
   "cell_type": "markdown",
   "id": "6b117c6b-d22d-4708-a5b1-b56f68eccb8c",
   "metadata": {},
   "source": [
    "* time complexity: \\\\(O(n^2)\\\\)"
   ]
  },
  {
   "cell_type": "markdown",
   "id": "c9f39c11-f002-4a06-9b52-59a2c4836972",
   "metadata": {},
   "source": [
    "Solution 2: Using stack\n",
    "\n",
    "We can use the stack to get an optimal solution to this problem. We can use stack and push the first element in the stack.\n",
    "\n",
    "For the next element till the list is empty:\n",
    "\n",
    "* Compare it with the top element of the stack.\n",
    "* If it is smaller than the top element, push the element in the stack and move to the next element.\n",
    "* If it is greater than the top element, keep popping the elements from the stack until it is empty or we get an element that is greater.\n",
    "* Push the element in the stack.\n",
    "\n",
    "In the end, if the stack is not empty, pop all elements and mark -1 as their next greater elements."
   ]
  },
  {
   "cell_type": "code",
   "execution_count": 63,
   "id": "1606a1d4-ced3-4a79-ae2d-4c8f64b98a82",
   "metadata": {},
   "outputs": [
    {
     "name": "stdout",
     "output_type": "stream",
     "text": [
      "5 34\n",
      "4 46\n",
      "34 46\n",
      "2 -1\n",
      "46 -1\n"
     ]
    }
   ],
   "source": [
    "ls = [5, 34, 4, 46, 2]\n",
    "stack = []\n",
    "stack += [ls[0]]\n",
    "for item in ls[1:]:\n",
    "    if item < stack[-1]:\n",
    "        # basically you are going to collect stuff until \n",
    "        # you get an item that is bigger than whats in the stack\n",
    "        pass\n",
    "    elif item > stack[-1]:\n",
    "        # now we start to dump, all the stuff in the stack\n",
    "        # will be associated with this big stuff\n",
    "        while (len(stack) != 0) and (item > stack[-1]):            \n",
    "            print(stack[-1], item)          \n",
    "            stack.pop()\n",
    "           \n",
    "    stack += [item]\n",
    "    \n",
    "# stuff that's left in the stack is associated with -1\n",
    "while len(stack) != 0:\n",
    "    print(stack[-1], -1)\n",
    "    stack.pop()"
   ]
  },
  {
   "cell_type": "markdown",
   "id": "4b6db07c-a594-4d09-a4ca-894c824b98a7",
   "metadata": {},
   "source": [
    "* time complexity: \\\\(O(n)\\\\)"
   ]
  },
  {
   "cell_type": "markdown",
   "id": "29fafc7f-3621-4644-9bed-40b658023475",
   "metadata": {},
   "source": [
    "## Q4 Queues (FIFO)\n",
    "\n",
    "Implement a queue class in Python"
   ]
  },
  {
   "cell_type": "code",
   "execution_count": 64,
   "id": "dc02108b-ff09-497d-b22b-0c21c992988b",
   "metadata": {},
   "outputs": [
    {
     "name": "stdout",
     "output_type": "stream",
     "text": [
      "['D', 'C', 'B']\n"
     ]
    }
   ],
   "source": [
    "class Queue:\n",
    "  def __init__(self):\n",
    "    self.queue = []\n",
    "  def enqueue(self,item):\n",
    "    self.queue.insert(0,item)\n",
    "  def dequeue(self):\n",
    "    self.queue.pop()\n",
    "  def isEmpty(self):\n",
    "    return len(self.queue)==0\n",
    "  def print_queue(self):\n",
    "    print(self.queue)\n",
    "\n",
    "#Perform Queue Operations\n",
    "first_queue = Queue()\n",
    "first_queue.enqueue('A')\n",
    "first_queue.enqueue('B')\n",
    "first_queue.dequeue()\n",
    "first_queue.enqueue('C')\n",
    "first_queue.enqueue('D')\n",
    "first_queue.print_queue()"
   ]
  },
  {
   "cell_type": "markdown",
   "id": "38378c92-85b0-483b-98c8-fc270ca1a92f",
   "metadata": {},
   "source": [
    "## Q5 Trees\n",
    "\n",
    "Complete the traversals"
   ]
  },
  {
   "cell_type": "code",
   "execution_count": 71,
   "id": "123fa9eb-b5e1-4742-898b-d4214df7f6d1",
   "metadata": {},
   "outputs": [
    {
     "name": "stdout",
     "output_type": "stream",
     "text": [
      "A\n",
      "<__main__.TreeNode object at 0x7f7a67634280>\n",
      "<__main__.TreeNode object at 0x7f7a67634b50>\n"
     ]
    }
   ],
   "source": [
    "class TreeNode:\n",
    "    #Initialize the tree\n",
    "    def __init__(self, key):\n",
    "        self.left = None\n",
    "        self.right = None\n",
    "        self.key = key\n",
    "\n",
    "    def print_node_info(self):\n",
    "        print(self.key)\n",
    "        print(self.right)\n",
    "        print(self.left)\n",
    "    \n",
    "    def pre_order(root): \n",
    "        \"\"\"\n",
    "        1. process the data\n",
    "        2. process the left tree\n",
    "        3. process the right tree\n",
    "        ex: A, B, D, C\n",
    "        \"\"\"\n",
    "        pass\n",
    "    \n",
    "    def in_order(root):\n",
    "        \"\"\"\n",
    "        1. process the left tree\n",
    "        2. process the data\n",
    "        3. process the right tree\n",
    "        ex: D, B, A, C\n",
    "        \"\"\"\n",
    "        pass\n",
    "    \n",
    "    def post_order(root):\n",
    "        \"\"\"\n",
    "        1. process the left tree\n",
    "        2. process the right tree\n",
    "        3. process the data\n",
    "        ex: D, B, C, A\n",
    "        \"\"\"\n",
    "\n",
    "# tree construction for examples in docstrings\n",
    "A = TreeNode('A')\n",
    "B = TreeNode('B')\n",
    "C = TreeNode('C')\n",
    "D = TreeNode('D')\n",
    "\n",
    "A.left = B\n",
    "A.right = C \n",
    "B.left = D\n",
    "\n",
    "A.print_node_info()"
   ]
  },
  {
   "cell_type": "markdown",
   "id": "101e1a33-4c44-46c4-807e-9f2f4ceb034e",
   "metadata": {},
   "source": [
    "## Q6 Hash Tables\n",
    "\n",
    "You and your friends are conducting a survey in Pewter City to find out the citizens' favorite pokemon. Your friends split into teams that cover different parts of the city, take the unique identification of each person, and record their choice. In the end you want to know who the most popular pokemon is overall.\n",
    "\n",
    "There is some possibility that the same person could be interviewed by two of your team members, and their response recorded twice. How would you make sure that their response will be counted only once?"
   ]
  },
  {
   "cell_type": "code",
   "execution_count": 72,
   "id": "38d557fc-8d6f-4bde-aca6-f590fcb896c4",
   "metadata": {},
   "outputs": [],
   "source": [
    "# citizen not repeated\n",
    "data_test_1 = [('Abhishek','Pikachu'),('Ankita','Charmander'),('John','Charmander'),('Nick','Squirtle')]\n",
    "\n",
    "# citizen repeated\n",
    "data_test_2 = [('Abhishek','Pikachu'),('Ankita','Charmander'),('John','Charmander'),('Nick','Squirtle'),('John','Charmander'),('Nick','Squirtle')]"
   ]
  },
  {
   "cell_type": "code",
   "execution_count": 92,
   "id": "313fe034-6665-49c5-af65-ae08dd180977",
   "metadata": {},
   "outputs": [],
   "source": [
    "def get_best(data):\n",
    "    survey_hash = dict(data) # duplicates drop due to hash\n",
    "    final_counts = dict()\n",
    "    for key, value in survey_hash.items():\n",
    "        if value in final_counts:\n",
    "            final_counts[value] += 1\n",
    "        else:\n",
    "            final_counts[value] = 1\n",
    "    return max(final_counts, key=final_counts.get)"
   ]
  },
  {
   "cell_type": "code",
   "execution_count": 94,
   "id": "ce8c7b21-f8c0-4984-9da7-a16128693266",
   "metadata": {},
   "outputs": [
    {
     "data": {
      "text/plain": [
       "'Charmander'"
      ]
     },
     "execution_count": 94,
     "metadata": {},
     "output_type": "execute_result"
    }
   ],
   "source": [
    "get_best(data_test_2)"
   ]
  }
 ],
 "metadata": {
  "kernelspec": {
   "display_name": "Python 3 (ipykernel)",
   "language": "python",
   "name": "python3"
  },
  "language_info": {
   "codemirror_mode": {
    "name": "ipython",
    "version": 3
   },
   "file_extension": ".py",
   "mimetype": "text/x-python",
   "name": "python",
   "nbconvert_exporter": "python",
   "pygments_lexer": "ipython3",
   "version": "3.9.7"
  }
 },
 "nbformat": 4,
 "nbformat_minor": 5
}
