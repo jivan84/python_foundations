{
 "cells": [
  {
   "cell_type": "markdown",
   "id": "bc99a06f-cf86-40a7-821e-279189472b08",
   "metadata": {
    "colab_type": "text",
    "id": "view-in-github"
   },
   "source": [
    "<a href=\"https://colab.research.google.com/github/wesleybeckner/python_foundations/blob/main/notebooks/extras/X5_Advanced_Algorithms.ipynb\" target=\"_parent\"><img src=\"https://colab.research.google.com/assets/colab-badge.svg\" alt=\"Open In Colab\"/></a>"
   ]
  },
  {
   "cell_type": "markdown",
   "id": "e44af465-b5bf-4fcb-9002-f465a5eebca5",
   "metadata": {
    "id": "ZhMpsTQGPQIm"
   },
   "source": [
    "# Python Foundations <br> X5: Advanced Algorithms\n",
    "\n",
    "**Instructor**: Wesley Beckner\n",
    "\n",
    "**Contact**: wesleybeckner@gmail.com\n",
    "\n",
    "---\n",
    "\n",
    "<br>\n",
    "\n",
    "This notebook covers common algorithms throughout computer programming\n",
    "\n",
    "<br>\n",
    "\n",
    "---\n"
   ]
  },
  {
   "cell_type": "markdown",
   "id": "7743471f-457e-4430-9789-a05164f314db",
   "metadata": {},
   "source": [
    "## Sliding Window"
   ]
  },
  {
   "cell_type": "markdown",
   "id": "e4531417-2c13-40db-b12a-89820fa27658",
   "metadata": {},
   "source": [
    "### Q1\n",
    "\n",
    "Given an array, find the average of all subarrays of ‘K’ contiguous elements in it."
   ]
  },
  {
   "cell_type": "code",
   "execution_count": 1,
   "id": "d70683d9-54a5-405d-a973-19512ca28a74",
   "metadata": {},
   "outputs": [],
   "source": [
    "data = [1, 3, 2, 6, -1, 4, 1, 8, 2]\n",
    "k=5"
   ]
  },
  {
   "cell_type": "code",
   "execution_count": 2,
   "id": "3c55ad3f-889d-4e77-b690-788b7018ce5f",
   "metadata": {},
   "outputs": [
    {
     "data": {
      "text/plain": [
       "[2.2, 2.8, 2.4, 3.6, 2.8]"
      ]
     },
     "execution_count": 2,
     "metadata": {},
     "output_type": "execute_result"
    }
   ],
   "source": [
    "def soln1(data):\n",
    "    means = []\n",
    "    for idx in range(len(data)-k+1):\n",
    "        means.append(sum(data[idx:idx+k])/k)\n",
    "    return means\n",
    "soln1(data)"
   ]
  },
  {
   "cell_type": "code",
   "execution_count": 3,
   "id": "9eb911b9-5260-4456-8011-ac73c64e67a2",
   "metadata": {},
   "outputs": [
    {
     "name": "stdout",
     "output_type": "stream",
     "text": [
      "1.37 µs ± 23 ns per loop (mean ± std. dev. of 7 runs, 1,000,000 loops each)\n"
     ]
    }
   ],
   "source": [
    "%%timeit\n",
    "soln1(data)"
   ]
  },
  {
   "cell_type": "markdown",
   "id": "e4b4bce0-f2ca-4253-bba5-8e77265fdf82",
   "metadata": {},
   "source": [
    "time complexity: \\\\(O(n*k)\\\\)"
   ]
  },
  {
   "cell_type": "code",
   "execution_count": 4,
   "id": "f27aa1ce-d790-4876-8910-bb19c7a66c0f",
   "metadata": {},
   "outputs": [
    {
     "data": {
      "text/plain": [
       "[2.2, 2.8, 2.4, 3.6, 2.8]"
      ]
     },
     "execution_count": 4,
     "metadata": {},
     "output_type": "execute_result"
    }
   ],
   "source": [
    "def soln2(data):\n",
    "    means = []\n",
    "    winsum = sum(data[:k])\n",
    "    means.append(winsum/k)\n",
    "    for idx in range(1, len(data)-k+1):\n",
    "        winsum -= data[idx-1]\n",
    "        winsum += data[idx+k-1]\n",
    "        means.append(winsum/k)\n",
    "    return means\n",
    "soln2(data)"
   ]
  },
  {
   "cell_type": "code",
   "execution_count": 5,
   "id": "f2a84276-f281-47ac-8fd0-2c10ec351ddd",
   "metadata": {},
   "outputs": [
    {
     "name": "stdout",
     "output_type": "stream",
     "text": [
      "1.06 µs ± 30.7 ns per loop (mean ± std. dev. of 7 runs, 1,000,000 loops each)\n"
     ]
    }
   ],
   "source": [
    "%%timeit\n",
    "soln2(data)"
   ]
  },
  {
   "cell_type": "markdown",
   "id": "d89a4711-1a89-400b-af6b-d2f537ee8a81",
   "metadata": {},
   "source": [
    "time complexity: \\\\(O(n)\\\\)"
   ]
  },
  {
   "cell_type": "markdown",
   "id": "3e51cad4-80b7-4f6b-a18d-a7aeeeacd1e9",
   "metadata": {},
   "source": [
    "### Q2\n",
    "\n",
    "Given an array of positive numbers and a positive number ‘S,’ find the length of the smallest contiguous subarray whose sum is greater than or equal to ‘S’. Return 0 if no such subarray exists."
   ]
  },
  {
   "cell_type": "code",
   "execution_count": 1,
   "id": "7d4a0b54-9bfc-482d-ad07-d93095b2f476",
   "metadata": {},
   "outputs": [],
   "source": [
    "data = [2, 1, 5, 2, 3, 2]\n",
    "S = 7"
   ]
  },
  {
   "cell_type": "code",
   "execution_count": 19,
   "id": "659bd6c7-59dd-460a-be1b-be5401f90fac",
   "metadata": {},
   "outputs": [],
   "source": [
    "def scs(data, S):\n",
    "    start = 0\n",
    "    bestlen = len(data)\n",
    "    for idx in range(len(data)):\n",
    "        winsum = sum(data[start:idx])\n",
    "        winlen = idx-start\n",
    "\n",
    "        while sum(data[start+1:idx]) >= S:\n",
    "            start += 1\n",
    "            winlen -= 1\n",
    "            winsum = sum(data[start:idx])\n",
    "\n",
    "        if winsum >= S and winlen < bestlen:\n",
    "            bestlen = winlen\n",
    "    return bestlen"
   ]
  },
  {
   "cell_type": "code",
   "execution_count": 20,
   "id": "b12bc556-af7d-44fb-80e5-a3f3dd3da5e1",
   "metadata": {},
   "outputs": [
    {
     "data": {
      "text/plain": [
       "2"
      ]
     },
     "execution_count": 20,
     "metadata": {},
     "output_type": "execute_result"
    }
   ],
   "source": [
    "data = [2, 1, 5, 2, 3, 2]\n",
    "S = 7\n",
    "scs(data, S)"
   ]
  },
  {
   "cell_type": "code",
   "execution_count": 21,
   "id": "c34c1f12-52d6-4655-920d-c1533881ee99",
   "metadata": {},
   "outputs": [
    {
     "data": {
      "text/plain": [
       "3"
      ]
     },
     "execution_count": 21,
     "metadata": {},
     "output_type": "execute_result"
    }
   ],
   "source": [
    "data = [3, 4, 1, 1, 6]\n",
    "S=8\n",
    "scs(data, S)"
   ]
  },
  {
   "cell_type": "markdown",
   "id": "707e87b9-26ee-4202-8b06-1389700450d6",
   "metadata": {},
   "source": [
    "time complexity: \\\\(O(n)\\\\)"
   ]
  },
  {
   "cell_type": "markdown",
   "id": "5a9cde80-1836-485b-831b-8d2864acb3fa",
   "metadata": {},
   "source": [
    "space complexity: \\\\(O(1)\\\\)"
   ]
  },
  {
   "cell_type": "markdown",
   "id": "2b9eebc6-5e9d-440b-b6cf-a9b9188af52e",
   "metadata": {},
   "source": [
    "### Q3\n",
    "\n",
    "Given a string, find the length of the longest substring in it with no more than K distinct characters."
   ]
  },
  {
   "cell_type": "code",
   "execution_count": 22,
   "id": "3cc517a7-d80f-4d18-a857-7e68749c3e95",
   "metadata": {},
   "outputs": [],
   "source": [
    "String=\"araaci\"\n",
    "K=2"
   ]
  }
 ],
 "metadata": {
  "kernelspec": {
   "display_name": "Python 3 (ipykernel)",
   "language": "python",
   "name": "python3"
  },
  "language_info": {
   "codemirror_mode": {
    "name": "ipython",
    "version": 3
   },
   "file_extension": ".py",
   "mimetype": "text/x-python",
   "name": "python",
   "nbconvert_exporter": "python",
   "pygments_lexer": "ipython3",
   "version": "3.9.7"
  }
 },
 "nbformat": 4,
 "nbformat_minor": 5
}
