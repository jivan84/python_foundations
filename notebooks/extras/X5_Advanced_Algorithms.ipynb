{
 "cells": [
  {
   "cell_type": "markdown",
   "id": "bc99a06f-cf86-40a7-821e-279189472b08",
   "metadata": {
    "colab_type": "text",
    "id": "view-in-github"
   },
   "source": [
    "<a href=\"https://colab.research.google.com/github/wesleybeckner/python_foundations/blob/main/notebooks/extras/X5_Advanced_Algorithms.ipynb\" target=\"_parent\"><img src=\"https://colab.research.google.com/assets/colab-badge.svg\" alt=\"Open In Colab\"/></a>"
   ]
  },
  {
   "cell_type": "markdown",
   "id": "e44af465-b5bf-4fcb-9002-f465a5eebca5",
   "metadata": {
    "id": "ZhMpsTQGPQIm"
   },
   "source": [
    "# Python Foundations <br> X5: Advanced Algorithms\n",
    "\n",
    "**Instructor**: Wesley Beckner\n",
    "\n",
    "**Contact**: wesleybeckner@gmail.com\n",
    "\n",
    "---\n",
    "\n",
    "<br>\n",
    "\n",
    "This notebook covers common algorithms throughout computer programming\n",
    "\n",
    "<br>\n",
    "\n",
    "---\n"
   ]
  },
  {
   "cell_type": "markdown",
   "id": "7743471f-457e-4430-9789-a05164f314db",
   "metadata": {},
   "source": [
    "## Sliding Window"
   ]
  },
  {
   "cell_type": "markdown",
   "id": "e4531417-2c13-40db-b12a-89820fa27658",
   "metadata": {},
   "source": [
    "### Q1\n",
    "\n",
    "Given an array, find the average of all subarrays of ‘K’ contiguous elements in it."
   ]
  },
  {
   "cell_type": "code",
   "execution_count": 1,
   "id": "d70683d9-54a5-405d-a973-19512ca28a74",
   "metadata": {},
   "outputs": [],
   "source": [
    "data = [1, 3, 2, 6, -1, 4, 1, 8, 2]\n",
    "k=5"
   ]
  },
  {
   "cell_type": "code",
   "execution_count": 2,
   "id": "3c55ad3f-889d-4e77-b690-788b7018ce5f",
   "metadata": {},
   "outputs": [
    {
     "data": {
      "text/plain": [
       "[2.2, 2.8, 2.4, 3.6, 2.8]"
      ]
     },
     "execution_count": 2,
     "metadata": {},
     "output_type": "execute_result"
    }
   ],
   "source": [
    "def soln1(data):\n",
    "    means = []\n",
    "    for idx in range(len(data)-k+1):\n",
    "        means.append(sum(data[idx:idx+k])/k)\n",
    "    return means\n",
    "soln1(data)"
   ]
  },
  {
   "cell_type": "code",
   "execution_count": 3,
   "id": "9eb911b9-5260-4456-8011-ac73c64e67a2",
   "metadata": {},
   "outputs": [
    {
     "name": "stdout",
     "output_type": "stream",
     "text": [
      "1.37 µs ± 23 ns per loop (mean ± std. dev. of 7 runs, 1,000,000 loops each)\n"
     ]
    }
   ],
   "source": [
    "%%timeit\n",
    "soln1(data)"
   ]
  },
  {
   "cell_type": "markdown",
   "id": "e4b4bce0-f2ca-4253-bba5-8e77265fdf82",
   "metadata": {},
   "source": [
    "time complexity: \\\\(O(n*k)\\\\)"
   ]
  },
  {
   "cell_type": "code",
   "execution_count": 4,
   "id": "f27aa1ce-d790-4876-8910-bb19c7a66c0f",
   "metadata": {},
   "outputs": [
    {
     "data": {
      "text/plain": [
       "[2.2, 2.8, 2.4, 3.6, 2.8]"
      ]
     },
     "execution_count": 4,
     "metadata": {},
     "output_type": "execute_result"
    }
   ],
   "source": [
    "def soln2(data):\n",
    "    means = []\n",
    "    winsum = sum(data[:k])\n",
    "    means.append(winsum/k)\n",
    "    for idx in range(1, len(data)-k+1):\n",
    "        winsum -= data[idx-1]\n",
    "        winsum += data[idx+k-1]\n",
    "        means.append(winsum/k)\n",
    "    return means\n",
    "soln2(data)"
   ]
  },
  {
   "cell_type": "code",
   "execution_count": 5,
   "id": "f2a84276-f281-47ac-8fd0-2c10ec351ddd",
   "metadata": {},
   "outputs": [
    {
     "name": "stdout",
     "output_type": "stream",
     "text": [
      "1.06 µs ± 30.7 ns per loop (mean ± std. dev. of 7 runs, 1,000,000 loops each)\n"
     ]
    }
   ],
   "source": [
    "%%timeit\n",
    "soln2(data)"
   ]
  },
  {
   "cell_type": "markdown",
   "id": "d89a4711-1a89-400b-af6b-d2f537ee8a81",
   "metadata": {},
   "source": [
    "time complexity: \\\\(O(n)\\\\)"
   ]
  },
  {
   "cell_type": "markdown",
   "id": "3e51cad4-80b7-4f6b-a18d-a7aeeeacd1e9",
   "metadata": {},
   "source": [
    "### Q2\n",
    "\n",
    "Given an array of positive numbers and a positive number ‘S,’ find the length of the smallest contiguous subarray whose sum is greater than or equal to ‘S’. Return 0 if no such subarray exists."
   ]
  },
  {
   "cell_type": "code",
   "execution_count": 1,
   "id": "7d4a0b54-9bfc-482d-ad07-d93095b2f476",
   "metadata": {},
   "outputs": [],
   "source": [
    "data = [2, 1, 5, 2, 3, 2]\n",
    "S = 7"
   ]
  },
  {
   "cell_type": "code",
   "execution_count": 19,
   "id": "659bd6c7-59dd-460a-be1b-be5401f90fac",
   "metadata": {},
   "outputs": [],
   "source": [
    "def scs(data, S):\n",
    "    start = 0\n",
    "    bestlen = len(data)\n",
    "    for idx in range(len(data)):\n",
    "        winsum = sum(data[start:idx])\n",
    "        winlen = idx-start\n",
    "\n",
    "        while sum(data[start+1:idx]) >= S:\n",
    "            start += 1\n",
    "            winlen -= 1\n",
    "            winsum = sum(data[start:idx])\n",
    "\n",
    "        if winsum >= S and winlen < bestlen:\n",
    "            bestlen = winlen\n",
    "    return bestlen"
   ]
  },
  {
   "cell_type": "code",
   "execution_count": 20,
   "id": "b12bc556-af7d-44fb-80e5-a3f3dd3da5e1",
   "metadata": {},
   "outputs": [
    {
     "data": {
      "text/plain": [
       "2"
      ]
     },
     "execution_count": 20,
     "metadata": {},
     "output_type": "execute_result"
    }
   ],
   "source": [
    "data = [2, 1, 5, 2, 3, 2]\n",
    "S = 7\n",
    "scs(data, S)"
   ]
  },
  {
   "cell_type": "code",
   "execution_count": 21,
   "id": "c34c1f12-52d6-4655-920d-c1533881ee99",
   "metadata": {},
   "outputs": [
    {
     "data": {
      "text/plain": [
       "3"
      ]
     },
     "execution_count": 21,
     "metadata": {},
     "output_type": "execute_result"
    }
   ],
   "source": [
    "data = [3, 4, 1, 1, 6]\n",
    "S=8\n",
    "scs(data, S)"
   ]
  },
  {
   "cell_type": "markdown",
   "id": "707e87b9-26ee-4202-8b06-1389700450d6",
   "metadata": {},
   "source": [
    "time complexity: \\\\(O(n)\\\\)"
   ]
  },
  {
   "cell_type": "markdown",
   "id": "5a9cde80-1836-485b-831b-8d2864acb3fa",
   "metadata": {},
   "source": [
    "space complexity: \\\\(O(1)\\\\)"
   ]
  },
  {
   "cell_type": "markdown",
   "id": "2b9eebc6-5e9d-440b-b6cf-a9b9188af52e",
   "metadata": {},
   "source": [
    "### Q3\n",
    "\n",
    "Given a string, find the length of the longest substring in it with no more than K distinct characters."
   ]
  },
  {
   "cell_type": "code",
   "execution_count": 43,
   "id": "3cc517a7-d80f-4d18-a857-7e68749c3e95",
   "metadata": {},
   "outputs": [],
   "source": [
    "# should return 5\n",
    "string=\"araaci\"\n",
    "k=2\n",
    "\n",
    "# should return 6\n",
    "string=\"cbbebi\" \n",
    "k=10"
   ]
  },
  {
   "cell_type": "code",
   "execution_count": 55,
   "id": "9b03045f-0261-4646-9f0b-496c3b165899",
   "metadata": {},
   "outputs": [],
   "source": [
    "def substr(string, k, verbose=False):\n",
    "    maxlen = 1\n",
    "    idx = 0\n",
    "    edx = 1\n",
    "    curlen = 1\n",
    "    if len(string) < 2:\n",
    "        # need atleas 2 char\n",
    "        pass\n",
    "\n",
    "    sub = string[0]\n",
    "    while edx < len(String):\n",
    "        estreak = False\n",
    "        while (edx < len(String)) and (estreak == False):\n",
    "            \n",
    "            # we could use hasing here instead of this fn call\n",
    "            if sub.count(string[edx]) == k: # if we add we break our rule\n",
    "                estreak = True    \n",
    "            else:\n",
    "                sub += string[edx]\n",
    "                curlen += 1\n",
    "                if curlen > maxlen:\n",
    "                    maxlen = curlen\n",
    "                if verbose:\n",
    "                    print(sub, curlen, edx, maxlen, sub.count(string[edx]))\n",
    "                edx += 1            \n",
    "        sub = sub[1:]\n",
    "        curlen -= 1\n",
    "        idx += 1\n",
    "    return maxlen    "
   ]
  },
  {
   "cell_type": "code",
   "execution_count": 56,
   "id": "5f6f1059-dd3b-479d-ba80-9ef5e08ae3b8",
   "metadata": {},
   "outputs": [
    {
     "name": "stdout",
     "output_type": "stream",
     "text": [
      "ar 2 1 2 1\n",
      "ara 3 2 3 2\n",
      "raa 3 3 3 2\n",
      "raac 4 4 4 1\n",
      "raaci 5 5 5 1\n"
     ]
    },
    {
     "data": {
      "text/plain": [
       "5"
      ]
     },
     "execution_count": 56,
     "metadata": {},
     "output_type": "execute_result"
    }
   ],
   "source": [
    "substr(string, k, True)"
   ]
  },
  {
   "cell_type": "code",
   "execution_count": 59,
   "id": "d73deb55-0f12-4858-9889-d9449c77bf74",
   "metadata": {},
   "outputs": [
    {
     "data": {
      "text/plain": [
       "6"
      ]
     },
     "execution_count": 59,
     "metadata": {},
     "output_type": "execute_result"
    }
   ],
   "source": [
    "string=\"cbbebi\" \n",
    "k=10\n",
    "substr(string, k, False)"
   ]
  },
  {
   "cell_type": "code",
   "execution_count": 60,
   "id": "c3abc48c-bfec-406f-8779-2b83924a2081",
   "metadata": {},
   "outputs": [
    {
     "name": "stdout",
     "output_type": "stream",
     "text": [
      "2.19 µs ± 120 ns per loop (mean ± std. dev. of 7 runs, 100,000 loops each)\n"
     ]
    }
   ],
   "source": [
    "%%timeit\n",
    "substr(string, k, False)"
   ]
  },
  {
   "cell_type": "markdown",
   "id": "feeb985b-b384-45ba-84e8-d3dd75185a73",
   "metadata": {},
   "source": [
    "time complexity: \\\\(O(n)\\\\)"
   ]
  },
  {
   "cell_type": "markdown",
   "id": "0488b30d-3207-4566-8bdb-ff391ed255d4",
   "metadata": {},
   "source": [
    "space complexity: \\\\(O(n)\\\\)"
   ]
  },
  {
   "cell_type": "markdown",
   "id": "9f38d970-ba61-4dff-a972-f033dce13172",
   "metadata": {},
   "source": [
    "## Two Pointers\n",
    "\n",
    "Useful on linked lists, sorted lists"
   ]
  },
  {
   "cell_type": "markdown",
   "id": "647b6902-a27c-4b59-b8df-6ce1a1610a32",
   "metadata": {},
   "source": [
    "### Q1 \n",
    "\n",
    "Given an array of sorted numbers and a target sum, find a pair in the array whose sum is equal to the given target."
   ]
  },
  {
   "cell_type": "code",
   "execution_count": 63,
   "id": "a61d4fd7-b843-4609-9fe4-20e532399ab8",
   "metadata": {},
   "outputs": [],
   "source": [
    "data = [1, 2, 3, 4, 6]\n",
    "target = 6\n",
    "# Output: [1, 3]"
   ]
  },
  {
   "cell_type": "code",
   "execution_count": 67,
   "id": "07a8c809-609e-4b82-b30b-8e9b077100a2",
   "metadata": {},
   "outputs": [],
   "source": [
    "def find_pair(data, target):\n",
    "    pt1 = 0\n",
    "    pt2 = len(data)-1\n",
    "    while True:\n",
    "        if data[pt1] + data[pt2] < target:\n",
    "            pt1 += 1\n",
    "        elif data[pt1] + data[pt2] > target:\n",
    "            pt2 -= 1\n",
    "        if (pt2 > len(data)) or data[pt1] + data[pt2] == target:\n",
    "            break\n",
    "    return pt1, pt2"
   ]
  },
  {
   "cell_type": "code",
   "execution_count": 68,
   "id": "44ebef0c-6973-4a83-a975-355a9b13e187",
   "metadata": {},
   "outputs": [
    {
     "data": {
      "text/plain": [
       "(1, 3)"
      ]
     },
     "execution_count": 68,
     "metadata": {},
     "output_type": "execute_result"
    }
   ],
   "source": [
    "find_pair(data, target)"
   ]
  },
  {
   "cell_type": "code",
   "execution_count": 69,
   "id": "58d1aa01-4a32-41a8-93cd-0e4f9280efff",
   "metadata": {},
   "outputs": [
    {
     "name": "stdout",
     "output_type": "stream",
     "text": [
      "672 ns ± 57.2 ns per loop (mean ± std. dev. of 7 runs, 1,000,000 loops each)\n"
     ]
    }
   ],
   "source": [
    "%%timeit\n",
    "find_pair(data, target)"
   ]
  },
  {
   "cell_type": "markdown",
   "id": "d3150889-3d03-464e-b974-9102ae2a545b",
   "metadata": {},
   "source": [
    "time complexity: \\\\(O(n)\\\\)"
   ]
  },
  {
   "cell_type": "markdown",
   "id": "73249d69-c566-4a06-832c-08b511b2ce30",
   "metadata": {},
   "source": [
    "space complexity: \\\\(O(1)\\\\)"
   ]
  },
  {
   "cell_type": "markdown",
   "id": "a761d9dc-a50c-4853-a66d-715158eb23cc",
   "metadata": {},
   "source": [
    "in contrast, a binary search approach would be O(N logN) time complexity"
   ]
  }
 ],
 "metadata": {
  "kernelspec": {
   "display_name": "Python 3 (ipykernel)",
   "language": "python",
   "name": "python3"
  },
  "language_info": {
   "codemirror_mode": {
    "name": "ipython",
    "version": 3
   },
   "file_extension": ".py",
   "mimetype": "text/x-python",
   "name": "python",
   "nbconvert_exporter": "python",
   "pygments_lexer": "ipython3",
   "version": "3.9.7"
  }
 },
 "nbformat": 4,
 "nbformat_minor": 5
}
