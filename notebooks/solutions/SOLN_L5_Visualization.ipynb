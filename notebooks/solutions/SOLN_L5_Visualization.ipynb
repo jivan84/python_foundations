{
 "cells": [
  {
   "cell_type": "markdown",
   "metadata": {
    "colab_type": "text",
    "id": "view-in-github"
   },
   "source": [
    "<a href=\"https://colab.research.google.com/github/wesleybeckner/python_foundations/blob/main/notebooks/labs/L5_Visualization.ipynb\" target=\"_parent\"><img src=\"https://colab.research.google.com/assets/colab-badge.svg\" alt=\"Open In Colab\"/></a>"
   ]
  },
  {
   "cell_type": "markdown",
   "metadata": {
    "id": "3rZ3ZWSkhxyS"
   },
   "source": [
    "# Python Foundations, Lab 5: Practice Visualization\n",
    "\n",
    "**Instructor**: Wesley Beckner\n",
    "\n",
    "**Contact**: wesleybeckner@gmail.com<br>\n",
    "\n",
    "---\n",
    "\n",
    "<br>\n",
    "\n",
    "In this lab we will make some nifty data visualizations!\n",
    "\n",
    "<br>\n",
    "\n",
    "---\n",
    "\n",
    "\n"
   ]
  },
  {
   "cell_type": "code",
   "execution_count": 1,
   "metadata": {
    "id": "LJA6mdY4Cl1r"
   },
   "outputs": [],
   "source": [
    "import pandas as pd\n",
    "import numpy as np\n",
    "import matplotlib.pyplot as plt\n",
    "import seaborn as sns\n",
    "import random\n",
    "from sklearn.linear_model import LinearRegression"
   ]
  },
  {
   "cell_type": "markdown",
   "metadata": {
    "id": "0PPaZvlct0fH"
   },
   "source": [
    "## 📊 L5 Q1 \n",
    "\n",
    "Create a bar plot of the following pokemon with their healthpoints"
   ]
  },
  {
   "cell_type": "code",
   "execution_count": 3,
   "metadata": {
    "id": "9lphFb2ksnEC"
   },
   "outputs": [
    {
     "data": {
      "text/plain": [
       "<BarContainer object of 4 artists>"
      ]
     },
     "execution_count": 3,
     "metadata": {},
     "output_type": "execute_result"
    },
    {
     "data": {
      "image/png": "[encoded data removed]",
      "text/plain": [
       "<Figure size 432x288 with 1 Axes>"
      ]
     },
     "metadata": {
      "needs_background": "light"
     },
     "output_type": "display_data"
    }
   ],
   "source": [
    "pokemon = ['Charmander', 'Pikachu', 'Squirtle', 'Bulbasaur']\n",
    "hp = [10, 12, 8, 16]\n",
    "\n",
    "plt.barh(pokemon, hp)"
   ]
  },
  {
   "cell_type": "markdown",
   "metadata": {
    "id": "0gi9EjLNuLGK"
   },
   "source": [
    "## 📊 L5 Q2\n",
    "\n",
    "Create the same bar plot with error bars using the provided list `variance`"
   ]
  },
  {
   "cell_type": "code",
   "execution_count": 4,
   "metadata": {
    "id": "EXkjgWoOt395"
   },
   "outputs": [
    {
     "data": {
      "text/plain": [
       "<BarContainer object of 4 artists>"
      ]
     },
     "execution_count": 4,
     "metadata": {},
     "output_type": "execute_result"
    },
    {
     "data": {
      "image/png": "[encoded data removed]",
      "text/plain": [
       "<Figure size 432x288 with 1 Axes>"
      ]
     },
     "metadata": {
      "needs_background": "light"
     },
     "output_type": "display_data"
    }
   ],
   "source": [
    "np.random.seed(1)\n",
    "pokemon = ['Charmander', 'Pikachu', 'Squirtle', 'Bulbasaur']\n",
    "hp = [10, 12, 8, 16]\n",
    "variance = [i * random.random()*.25 for i in hp]\n",
    "\n",
    "plt.barh(pokemon, hp, xerr=variance)"
   ]
  },
  {
   "cell_type": "markdown",
   "metadata": {
    "id": "HK6nG-UPuvkT"
   },
   "source": [
    "## 📊 L5 Q3\n",
    "\n",
    "You have worker shift performance data. Each `shift` list contains 10 samples of how many kilograms of product were produced in a shift. Create a boxplot of this worker data. Each shift should be a separate block\n"
   ]
  },
  {
   "cell_type": "code",
   "execution_count": 6,
   "metadata": {
    "id": "kAh1JuzOu1A6"
   },
   "outputs": [
    {
     "data": {
      "text/plain": [
       "{'whiskers': [<matplotlib.lines.Line2D at 0x7f028b025ca0>,\n",
       "  <matplotlib.lines.Line2D at 0x7f028b025f70>],\n",
       " 'caps': [<matplotlib.lines.Line2D at 0x7f028afb1280>,\n",
       "  <matplotlib.lines.Line2D at 0x7f028afb1550>],\n",
       " 'boxes': [<matplotlib.lines.Line2D at 0x7f028b0259d0>],\n",
       " 'medians': [<matplotlib.lines.Line2D at 0x7f028afb1820>],\n",
       " 'fliers': [<matplotlib.lines.Line2D at 0x7f028afb1af0>],\n",
       " 'means': []}"
      ]
     },
     "execution_count": 6,
     "metadata": {},
     "output_type": "execute_result"
    },
    {
     "data": {
      "image/png": "[encoded data removed]",
      "text/plain": [
       "<Figure size 432x288 with 1 Axes>"
      ]
     },
     "metadata": {
      "needs_background": "light"
     },
     "output_type": "display_data"
    }
   ],
   "source": [
    "np.random.seed(7)\n",
    "shift_one = [round(i) for i in np.random.normal(16, 3, 10)]\n",
    "shift_two = [round(i) for i in np.random.normal(21, 3, 10)]\n",
    "shift_three = [round(i) for i in np.random.normal(16, 3, 10)]\n",
    "shift_four = [round(i) for i in np.random.normal(16, 3, 10)]\n",
    "\n",
    "fig, ax = plt.subplots()\n",
    "ax.boxplot(shift_one, positions=[1])\n",
    "ax.boxplot(shift_two, positions=[0])\n",
    "ax.boxplot(shift_three, positions=[2])\n",
    "ax.boxplot(shift_four, positions=[3])"
   ]
  },
  {
   "cell_type": "code",
   "execution_count": 80,
   "metadata": {},
   "outputs": [
    {
     "data": {
      "image/png": "[encoded data removed]",
      "text/plain": [
       "<Figure size 432x288 with 1 Axes>"
      ]
     },
     "metadata": {
      "needs_background": "light"
     },
     "output_type": "display_data"
    }
   ],
   "source": [
    "df = pd.DataFrame([shift_one, shift_two, shift_three, shift_four]).T \n",
    "df.columns = ['shift one', 'shift two', 'shift three', 'shift four']\n",
    "df = df.melt(var_name = 'shift', value_name = 'kg')\n",
    "df.boxplot(by='shift', column='kg')\n",
    "plt.tight_layout()"
   ]
  },
  {
   "cell_type": "markdown",
   "metadata": {
    "id": "08Phen9ru9fb"
   },
   "source": [
    "## 📊 L5 Q4 \n",
    "\n",
    "Create a scatter plot of x vs y"
   ]
  },
  {
   "cell_type": "code",
   "execution_count": 15,
   "metadata": {
    "id": "kz7TvktXu1ai"
   },
   "outputs": [
    {
     "data": {
      "text/plain": [
       "[<matplotlib.lines.Line2D at 0x7f0288aed5e0>]"
      ]
     },
     "execution_count": 15,
     "metadata": {},
     "output_type": "execute_result"
    },
    {
     "data": {
      "image/png": "[encoded data removed]",
      "text/plain": [
       "<Figure size 432x288 with 1 Axes>"
      ]
     },
     "metadata": {
      "needs_background": "light"
     },
     "output_type": "display_data"
    }
   ],
   "source": [
    "# we can throttle the error rate\n",
    "err = .5\n",
    "random.seed(42)\n",
    "\n",
    "# our data has a KNOWN underlying functional form (log(x))\n",
    "def func(x, err):\n",
    "    return np.log(x) + err * random.randint(-1,1) * random.random()\n",
    "x = np.arange(20,100)\n",
    "y = [func(t, err) for t in x]\n",
    "\n",
    "plt.plot(x, y)"
   ]
  },
  {
   "cell_type": "markdown",
   "metadata": {
    "id": "Yt6pOFN818x_"
   },
   "source": [
    "## 📊 L5 Q5\n",
    "\n",
    "Compute the mean and standard deviation of weights grouped by fruit then display the result as a bar chart with error bars\n"
   ]
  },
  {
   "cell_type": "code",
   "execution_count": 51,
   "metadata": {},
   "outputs": [
    {
     "name": "stdout",
     "output_type": "stream",
     "text": [
      "[1.0, 2.0, 3.0, 4.0, 5.0, 6.0, 7.0, 8.0, 9.0, 10.0]\n",
      "['carrot', 'carrot', 'banana', 'carrot', 'apple', 'apple', 'banana', 'apple', 'apple', 'banana']\n"
     ]
    }
   ],
   "source": [
    "fruit = pd.Series(np.random.choice(['apple', 'banana', 'carrot'], 10))\n",
    "weights = pd.Series(np.linspace(1, 10, 10))\n",
    "print(weights.tolist())\n",
    "print(fruit.tolist())"
   ]
  },
  {
   "cell_type": "code",
   "execution_count": 77,
   "metadata": {},
   "outputs": [
    {
     "data": {
      "text/plain": [
       "<AxesSubplot:xlabel='Fruit'>"
      ]
     },
     "execution_count": 77,
     "metadata": {},
     "output_type": "execute_result"
    },
    {
     "data": {
      "image/png": "[encoded data removed]",
      "text/plain": [
       "<Figure size 432x288 with 1 Axes>"
      ]
     },
     "metadata": {
      "needs_background": "light"
     },
     "output_type": "display_data"
    }
   ],
   "source": [
    "df = pd.DataFrame({'Fruit': fruit, 'Weight': weights})\n",
    "df2 = df.groupby('Fruit').agg(['mean', 'std'])\n",
    "df2.plot(kind='bar', y=('Weight', 'mean'), yerr=df2['Weight', 'std'].values)"
   ]
  },
  {
   "cell_type": "markdown",
   "metadata": {
    "id": "zYiorbGjNWtB"
   },
   "source": [
    "## 📊 L5 Q6\n",
    "\n",
    "Make a scatter plot of `X_train` vs `y_train`. On the same plot, add a dotted line representation of the linear model estimated from `X_train` and `y_train` (you can use `X_seq` and `y_seq` to do this)"
   ]
  },
  {
   "cell_type": "code",
   "execution_count": 79,
   "metadata": {
    "id": "znZ7EfIWNWtH"
   },
   "outputs": [
    {
     "data": {
      "text/plain": [
       "[<matplotlib.lines.Line2D at 0x7f02808ec370>]"
      ]
     },
     "execution_count": 79,
     "metadata": {},
     "output_type": "execute_result"
    },
    {
     "data": {
      "image/png": "[encoded data removed]",
      "text/plain": [
       "<Figure size 432x288 with 1 Axes>"
      ]
     },
     "metadata": {
      "needs_background": "light"
     },
     "output_type": "display_data"
    }
   ],
   "source": [
    "random.seed(42)\n",
    "\n",
    "X_train = random.sample(list(x), 30)\n",
    "indices = [list(x).index(i) for i in X_train]\n",
    "y_train = [y[i] for i in indices]\n",
    "\n",
    "# solve the slope and intercept of our 1-degree polynomial ;)\n",
    "model = LinearRegression()\n",
    "model.fit(np.array(X_train).reshape(-1,1), y_train)\n",
    "\n",
    "# create some x data to plot our functions\n",
    "X_seq = np.linspace(min(X_train),max(X_train),300).reshape(-1,1)\n",
    "y_seq = model.predict(X_seq)\n",
    "\n",
    "fig, ax = plt.subplots()\n",
    "ax.plot(X_train, y_train, ls='', marker='.')\n",
    "ax.plot(X_seq, y_seq, ls='--')"
   ]
  }
 ],
 "metadata": {
  "colab": {
   "collapsed_sections": [],
   "include_colab_link": true,
   "name": "E4_Pandas.ipynb",
   "provenance": []
  },
  "kernelspec": {
   "display_name": "Python 3 (ipykernel)",
   "language": "python",
   "name": "python3"
  },
  "language_info": {
   "codemirror_mode": {
    "name": "ipython",
    "version": 3
   },
   "file_extension": ".py",
   "mimetype": "text/x-python",
   "name": "python",
   "nbconvert_exporter": "python",
   "pygments_lexer": "ipython3",
   "version": "3.9.7"
  }
 },
 "nbformat": 4,
 "nbformat_minor": 4
}
