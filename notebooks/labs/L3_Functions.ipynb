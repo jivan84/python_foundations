{
  "cells": [
    {
      "cell_type": "markdown",
      "metadata": {
        "colab_type": "text",
        "id": "view-in-github"
      },
      "source": [
        "<a href=\"https://colab.research.google.com/github/wesleybeckner/python_foundations/blob/main/notebooks/labs/L3_Functions.ipynb\" target=\"_parent\"><img src=\"https://colab.research.google.com/assets/colab-badge.svg\" alt=\"Open In Colab\"/></a>"
      ]
    },
    {
      "cell_type": "markdown",
      "metadata": {
        "id": "3rZ3ZWSkhxyS"
      },
      "source": [
        "# Python Foundations, Lab 3: Practice with Functions\n",
        "\n",
        "**Instructor**: Wesley Beckner\n",
        "\n",
        "**Contact**: wesleybeckner@gmail.com\n",
        "\n",
        "**Solved**: [notebook](https://wesleybeckner.github.io/python_foundations/solutions/SOLN_L3_Functions/)\n",
        "<br>\n",
        "\n",
        "---\n",
        "\n",
        "<br>\n",
        "\n",
        "In this lab we will continue to practice writing functions\n",
        "\n",
        "<br>\n",
        "\n",
        "---\n",
        "\n",
        "\n"
      ]
    },
    {
      "cell_type": "markdown",
      "metadata": {
        "id": "e9MwkxIGlc0k"
      },
      "source": [
        "## ✍🏽 L3 Q1: Basic Function Writing\n",
        "\n"
      ]
    },
    {
      "cell_type": "markdown",
      "metadata": {
        "id": "Qw7dGDLynBpZ"
      },
      "source": [
        "### Part A\n",
        "\n",
        "Write a Python function to find the maximum of three numbers\n",
        "\n"
      ]
    },
    {
      "cell_type": "code",
      "execution_count": null,
      "metadata": {
        "id": "Vb1NyIqZmqYg"
      },
      "outputs": [],
      "source": [
        "# Cell for L3 Q1 A"
      ]
    },
    {
      "cell_type": "markdown",
      "metadata": {
        "id": "1WZkXH9Om75g"
      },
      "source": [
        "### Part B\n",
        "\n",
        "Write a Python function to multiply all the numbers in a list\n",
        "\n",
        "Example:\n",
        "\n",
        "```\n",
        "Sample List : (8, 2, 3, -1, 7)\n",
        "Expected Output : -336\n",
        "```"
      ]
    },
    {
      "cell_type": "code",
      "execution_count": null,
      "metadata": {
        "id": "DNr1iPrJnGuf"
      },
      "outputs": [],
      "source": [
        "# Cell for L3 Q1 B"
      ]
    },
    {
      "cell_type": "markdown",
      "metadata": {
        "id": "MdYwm8EyncmA"
      },
      "source": [
        "### Part C\n",
        "\n",
        "Write a Python program to reverse a string\n",
        "\n",
        "Example:\n",
        "\n",
        "```\n",
        "Sample String : \"1234abcd\"\n",
        "Expected Output : \"dcba4321\"\n",
        "```"
      ]
    },
    {
      "cell_type": "code",
      "execution_count": null,
      "metadata": {
        "id": "4Dz-euqNnfWA"
      },
      "outputs": [],
      "source": [
        "# Cell for L3 Q1 C"
      ]
    },
    {
      "cell_type": "markdown",
      "metadata": {
        "id": "Sp832EkKi67C"
      },
      "source": [
        "## ❄️ L3 Q2: Finding Unique Elements\n",
        "\n",
        "Write a Python function that takes a list and returns a new list with unique elements of the first list\n",
        "\n",
        "Example:\n",
        "```\n",
        "Sample List : [1,2,3,3,3,3,4,5]\n",
        "Unique List : [1, 2, 3, 4, 5]\n",
        "```"
      ]
    },
    {
      "cell_type": "code",
      "execution_count": null,
      "metadata": {
        "id": "w-mykt4KhnA2"
      },
      "outputs": [],
      "source": [
        "# Cell for L3 Q2"
      ]
    },
    {
      "cell_type": "markdown",
      "metadata": {
        "id": "l730VAfyQf6Q"
      },
      "source": [
        "## ❗ L3 Q3: Computing Factorials\n",
        "\n",
        "Write a Python function to calculate the factorial of a number (any non-negative integer). The function accepts the number as an argument\n",
        "\n",
        "Example: \n",
        "\n",
        "```\n",
        "Input: 4                                                       \n",
        "Output: 24\n",
        "```"
      ]
    },
    {
      "cell_type": "code",
      "execution_count": null,
      "metadata": {
        "id": "Yi9MqP81Qj7H"
      },
      "outputs": [],
      "source": [
        "# Cell for L3 Q3"
      ]
    },
    {
      "cell_type": "markdown",
      "metadata": {
        "id": "Gulge5B4M8W1"
      },
      "source": [
        "## Practicing our hand at functions by implementing recursion\n",
        "\n",
        "We will practice the last exercise we did yesterday, this time using what we've learned about functions to write a _recursive function_\n",
        "\n",
        "A recursive function is a function that makes a call to itself. This is particularly well suited for tasks that would otherwise require a lot of memory to hold intermediary solutions (when they are combined with a strategy called _memoization_ which we will shy away from here). The Fibonnaci sequence is a good place for such a problem. So is a factorial calculation. See here below"
      ]
    },
    {
      "cell_type": "markdown",
      "metadata": {
        "id": "8GFNlLoL-B-O"
      },
      "source": [
        "$$3! = 3 * 2 * 1$$\n",
        "\n",
        "$$4! = 4 * 3 * 2 * 1$$"
      ]
    },
    {
      "cell_type": "code",
      "execution_count": null,
      "metadata": {
        "id": "BNCkE66QNTUk"
      },
      "outputs": [],
      "source": [
        "def factorial(x):\n",
        "    \"\"\"This is a recursive function\n",
        "    to find the factorial of an integer\"\"\"\n",
        "\n",
        "    if x == 1:\n",
        "        return 1\n",
        "    else:\n",
        "        # one trick to note that is common with recursive functions\n",
        "        # is that the incrementation in the key variable is done\n",
        "        # in the call to the function itself (vs a for loop)\n",
        "        return (x * factorial(x-1))"
      ]
    },
    {
      "cell_type": "code",
      "execution_count": null,
      "metadata": {
        "colab": {
          "base_uri": "https://localhost:8080/"
        },
        "id": "9T_6iuyI-ev_",
        "outputId": "70207665-005f-4080-e1d9-c7888e2d1635"
      },
      "outputs": [
        {
          "data": {
            "text/plain": [
              "6"
            ]
          },
          "execution_count": 16,
          "metadata": {
            "tags": []
          },
          "output_type": "execute_result"
        }
      ],
      "source": [
        "n = 3\n",
        "factorial(n)"
      ]
    },
    {
      "cell_type": "markdown",
      "metadata": {
        "id": "ruEYk9SqNW88"
      },
      "source": [
        "In the above, we have on lines 5 and 6, what we call the _baseline_ solution. It is the answer to the simplest subset of the problem. When we build a recursive tree, it is useful to think of the smallest problem, and work upwards, providing this _leaf_ solution to nodes further up on the recursive tree. Like so:"
      ]
    },
    {
      "cell_type": "code",
      "execution_count": null,
      "metadata": {
        "id": "GfR__pA2Nm6i"
      },
      "outputs": [],
      "source": [
        "# 1! = 1\n",
        "# 2! = 2 * 1!\n",
        "# 3! = 3 * 2!\n",
        "# N! = N * (N-1)! ... like ... like so"
      ]
    },
    {
      "cell_type": "markdown",
      "metadata": {
        "id": "i3SsxoWaOU_D"
      },
      "source": [
        "This problem is intended to be a fun way to wrap our heads around functions... don't stress. If you want to see a further breakdown of the factorial problem, check out [this link](https://www.programiz.com/python-programming/recursion)"
      ]
    },
    {
      "cell_type": "markdown",
      "metadata": {
        "id": "A0BRhEBPUnBX"
      },
      "source": [
        "## 🛺 L3 Q4: Recursive Functions\n",
        "\n",
        "Using recursion, complete the Fibonacci sequence up to the 10th place using recursion and any or all of the following:\n",
        "\n",
        "* `if` `elif` `else`\n",
        "* `range`\n",
        "\n",
        "The Fibonacci sequence with indices:\n",
        "\n",
        "```\n",
        "0. 0\n",
        "1. 1\n",
        "2. 1\n",
        "3. 2\n",
        "4. 3\n",
        "5. 5\n",
        "6. 8\n",
        "7. etc..\n",
        "```\n",
        "\n",
        "Example input:\n",
        "\n",
        "`index = 9`\n",
        "\n",
        "Example output:\n",
        "```\n",
        "Index: 9\n",
        "Value: 34\n",
        "```"
      ]
    },
    {
      "cell_type": "code",
      "execution_count": null,
      "metadata": {
        "id": "Cq_NdBkdhvyk"
      },
      "outputs": [],
      "source": [
        "# Cell for L3 Q4"
      ]
    }
  ],
  "metadata": {
    "colab": {
      "collapsed_sections": [],
      "include_colab_link": true,
      "name": "E3_Functions.ipynb",
      "provenance": []
    },
    "kernelspec": {
      "display_name": "Python 3",
      "name": "python3"
    },
    "language_info": {
      "name": "python"
    }
  },
  "nbformat": 4,
  "nbformat_minor": 0
}
