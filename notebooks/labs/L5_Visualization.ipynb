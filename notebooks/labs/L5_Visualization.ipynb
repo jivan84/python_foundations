{
 "cells": [
  {
   "cell_type": "markdown",
   "metadata": {
    "colab_type": "text",
    "id": "view-in-github"
   },
   "source": [
    "<a href=\"https://colab.research.google.com/github/wesleybeckner/python_foundations/blob/main/notebooks/labs/L5_Visualization.ipynb\" target=\"_parent\"><img src=\"https://colab.research.google.com/assets/colab-badge.svg\" alt=\"Open In Colab\"/></a>"
   ]
  },
  {
   "cell_type": "markdown",
   "metadata": {
    "id": "3rZ3ZWSkhxyS"
   },
   "source": [
    "# Python Foundations, Lab 5: Practice Visualization\n",
    "\n",
    "**Instructor**: Wesley Beckner\n",
    "\n",
    "**Contact**: wesleybeckner@gmail.com<br>\n",
    "\n",
    "---\n",
    "\n",
    "<br>\n",
    "\n",
    "In this lab we will make some nifty data visualizations!\n",
    "\n",
    "<br>\n",
    "\n",
    "---\n",
    "\n",
    "\n"
   ]
  },
  {
   "cell_type": "code",
   "execution_count": 6,
   "metadata": {
    "id": "LJA6mdY4Cl1r"
   },
   "outputs": [],
   "source": [
    "import pandas as pd\n",
    "import numpy as np\n",
    "import matplotlib.pyplot as plt\n",
    "import seaborn as sns\n",
    "import random\n",
    "from sklearn.linear_model import LinearRegression"
   ]
  },
  {
   "cell_type": "markdown",
   "metadata": {
    "id": "0PPaZvlct0fH"
   },
   "source": [
    "## 📊 L5 Q1 \n",
    "\n",
    "Create a bar plot of the following pokemon with their healthpoints"
   ]
  },
  {
   "cell_type": "code",
   "execution_count": 2,
   "metadata": {
    "id": "9lphFb2ksnEC"
   },
   "outputs": [],
   "source": [
    "pokemon = ['Charmander', 'Pikachu', 'Squirtle', 'Bulbasaur']\n",
    "hp = [10, 12, 8, 16]"
   ]
  },
  {
   "cell_type": "markdown",
   "metadata": {
    "id": "0gi9EjLNuLGK"
   },
   "source": [
    "## 📊 L5 Q2\n",
    "\n",
    "Create the same bar plot with error bars using the provided list `variance`"
   ]
  },
  {
   "cell_type": "code",
   "execution_count": null,
   "metadata": {
    "id": "EXkjgWoOt395"
   },
   "outputs": [],
   "source": [
    "np.random.seed(1)\n",
    "pokemon = ['Charmander', 'Pikachu', 'Squirtle', 'Bulbasaur']\n",
    "hp = [10, 12, 8, 16]\n",
    "variance = [i * random.random()*.25 for i in hp]"
   ]
  },
  {
   "cell_type": "markdown",
   "metadata": {
    "id": "HK6nG-UPuvkT"
   },
   "source": [
    "## 📊 L5 Q3\n",
    "\n",
    "You have worker shift performance data. Each `shift` list contains 10 samples of how many kilograms of product were produced in a shift. Create a boxplot of this worker data. Each shift should be a separate block\n"
   ]
  },
  {
   "cell_type": "code",
   "execution_count": null,
   "metadata": {
    "id": "kAh1JuzOu1A6"
   },
   "outputs": [],
   "source": [
    "np.random.seed(7)\n",
    "shift_one = [round(i) for i in np.random.normal(16, 3, 10)]\n",
    "shift_two = [round(i) for i in np.random.normal(21, 3, 10)]\n",
    "shift_three = [round(i) for i in np.random.normal(16, 3, 10)]\n",
    "shift_four = [round(i) for i in np.random.normal(16, 3, 10)]"
   ]
  },
  {
   "cell_type": "markdown",
   "metadata": {
    "id": "08Phen9ru9fb"
   },
   "source": [
    "## 📊 L5 Q4 \n",
    "\n",
    "Create a scatter plot of x vs y"
   ]
  },
  {
   "cell_type": "code",
   "execution_count": 8,
   "metadata": {
    "id": "kz7TvktXu1ai"
   },
   "outputs": [],
   "source": [
    "# we can throttle the error rate\n",
    "err = .5\n",
    "random.seed(42)\n",
    "\n",
    "# our data has a KNOWN underlying functional form (log(x))\n",
    "def func(x, err):\n",
    "    return np.log(x) + err * random.randint(-1,1) * random.random()\n",
    "x = np.arange(20,100)\n",
    "y = [func(t, err) for t in x]"
   ]
  },
  {
   "cell_type": "markdown",
   "metadata": {
    "id": "Yt6pOFN818x_"
   },
   "source": [
    "## 📊 L5 Q5\n",
    "\n",
    "Compute the mean and standard deviation of weights grouped by fruit then display the result as a bar chart with error bars\n"
   ]
  },
  {
   "cell_type": "code",
   "execution_count": 9,
   "metadata": {
    "colab": {
     "base_uri": "https://localhost:8080/"
    },
    "id": "KFdCPjZWvEy_",
    "outputId": "045abf56-082b-4645-c05c-d473915e54e1"
   },
   "outputs": [
    {
     "name": "stdout",
     "output_type": "stream",
     "text": [
      "[1.0, 2.0, 3.0, 4.0, 5.0, 6.0, 7.0, 8.0, 9.0, 10.0]\n",
      "['apple', 'carrot', 'banana', 'banana', 'apple', 'banana', 'banana', 'banana', 'carrot', 'banana']\n"
     ]
    }
   ],
   "source": [
    "fruit = pd.Series(np.random.choice(['apple', 'banana', 'carrot'], 10))\n",
    "weights = pd.Series(np.linspace(1, 10, 10))\n",
    "print(weights.tolist())\n",
    "print(fruit.tolist())"
   ]
  },
  {
   "cell_type": "markdown",
   "metadata": {
    "id": "zYiorbGjNWtB"
   },
   "source": [
    "## 📊 L5 Q6\n",
    "\n",
    "Make a scatter plot of `X_train` vs `y_train`. On the same plot, add a dotted line representation of the linear model estimated from `X_train` and `y_train` (you can use `X_seq` and `y_seq` to do this)"
   ]
  },
  {
   "cell_type": "code",
   "execution_count": 10,
   "metadata": {
    "id": "znZ7EfIWNWtH"
   },
   "outputs": [],
   "source": [
    "random.seed(42)\n",
    "\n",
    "X_train = random.sample(list(x), 30)\n",
    "indices = [list(x).index(i) for i in X_train]\n",
    "y_train = [y[i] for i in indices]\n",
    "\n",
    "# solve the slope and intercept of our 1-degree polynomial ;)\n",
    "model = LinearRegression()\n",
    "model.fit(np.array(X_train).reshape(-1,1), y_train)\n",
    "\n",
    "# create some x data to plot our functions\n",
    "X_seq = np.linspace(min(X_train),max(X_train),300).reshape(-1,1)\n",
    "y_seq = model.predict(X_seq)"
   ]
  }
 ],
 "metadata": {
  "colab": {
   "collapsed_sections": [],
   "include_colab_link": true,
   "name": "E4_Pandas.ipynb",
   "provenance": []
  },
  "kernelspec": {
   "display_name": "Python 3 (ipykernel)",
   "language": "python",
   "name": "python3"
  },
  "language_info": {
   "codemirror_mode": {
    "name": "ipython",
    "version": 3
   },
   "file_extension": ".py",
   "mimetype": "text/x-python",
   "name": "python",
   "nbconvert_exporter": "python",
   "pygments_lexer": "ipython3",
   "version": "3.9.7"
  }
 },
 "nbformat": 4,
 "nbformat_minor": 4
}
