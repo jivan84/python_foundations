{
 "cells": [
  {
   "cell_type": "markdown",
   "metadata": {},
   "source": [
    "<a href=\"https://colab.research.google.com/github/wesleybeckner/python_foundations/blob/main/notebooks/labs/L6_Numpy.ipynb\" target=\"_parent\"><img src=\"https://colab.research.google.com/assets/colab-badge.svg\" alt=\"Open In Colab\"/></a>"
   ]
  },
  {
   "cell_type": "markdown",
   "metadata": {
    "id": "SaQphvIrtYdw"
   },
   "source": [
    "# Python Foundations, Lab 6: Practice with Numpy\n",
    "\n",
    "**Instructor**: Wesley Beckner\n",
    "\n",
    "**Contact**: wesleybeckner@gmail.com\n",
    "\n",
    "**Solved**: [notebook](https://wesleybeckner.github.io/python_foundations/solutions/SOLN_L6_Numpy/)\n",
    "\n",
    "<br>\n",
    "\n",
    "---\n",
    "\n",
    "<br>\n",
    "\n",
    "In this lab we will continue to practice with numpy\n",
    "\n",
    "<br>\n",
    "\n",
    "---\n",
    "\n",
    "\n"
   ]
  },
  {
   "cell_type": "code",
   "execution_count": null,
   "metadata": {
    "id": "rM5rDI1dt403"
   },
   "outputs": [],
   "source": [
    "import pandas as pd\n",
    "import numpy as np"
   ]
  },
  {
   "cell_type": "markdown",
   "metadata": {
    "id": "0PPaZvlct0fH"
   },
   "source": [
    "## 🧮 L6 Q1 \n",
    "\n",
    "Get the common items between these two arrays\n",
    "\n",
    "```\n",
    "a = np.array([1,2,3,2,3,4,3,4,5,6])\n",
    "b = np.array([7,2,10,2,7,4,9,4,9,8])\n",
    "```"
   ]
  },
  {
   "cell_type": "code",
   "execution_count": null,
   "metadata": {
    "id": "9lphFb2ksnEC"
   },
   "outputs": [],
   "source": [
    "# cell for Q1\n",
    "a = np.array([1,2,3,2,3,4,3,4,5,6])\n",
    "b = np.array([7,2,10,2,7,4,9,4,9,8])"
   ]
  },
  {
   "cell_type": "markdown",
   "metadata": {
    "id": "6I9yYNVX4AVk"
   },
   "source": [
    "## 🧮 L6 Q2\n",
    "\n",
    "Now, get the positions where elements of `a` and `b` match\n",
    "\n",
    "```\n",
    "a = np.array([1,2,3,2,3,4,3,4,5,6])\n",
    "b = np.array([7,2,10,2,7,4,9,4,9,8])\n",
    "```"
   ]
  },
  {
   "cell_type": "code",
   "execution_count": null,
   "metadata": {
    "id": "aAdTRdS84KoA"
   },
   "outputs": [],
   "source": [
    "# cell for Q2\n",
    "a = np.array([1,2,3,2,3,4,3,4,5,6])\n",
    "b = np.array([7,2,10,2,7,4,9,4,9,8])"
   ]
  },
  {
   "cell_type": "markdown",
   "metadata": {
    "id": "kXXtV9eW513-"
   },
   "source": [
    "## 🧮 L6 Q3\n",
    "\n",
    "Get all the items that are between 5 and 10 in `b`\n",
    "\n",
    "```\n",
    "b = np.array([7,2,10,2,7,4,9,4,9,8])\n",
    "```"
   ]
  },
  {
   "cell_type": "code",
   "execution_count": null,
   "metadata": {
    "id": "PFsqaXw75Jgk"
   },
   "outputs": [],
   "source": [
    "# cell for Q3\n",
    "b = np.array([7,2,10,2,7,4,9,4,9,8])"
   ]
  },
  {
   "cell_type": "markdown",
   "metadata": {
    "id": "5-5vPilS75PB"
   },
   "source": [
    "## 🧮 L6 Q4\n",
    "\n",
    "Read the url as a 2D array rather than a 1D array by omitting the `species` field (the last column; hint: check parameter `usecols`)\n",
    "\n",
    "```\n",
    "url = 'https://archive.ics.uci.edu/ml/machine-learning-databases/iris/iris.data'\n",
    "iris_1d = np.genfromtxt(url, delimiter=',', dtype=None)\n",
    "```"
   ]
  },
  {
   "cell_type": "code",
   "execution_count": null,
   "metadata": {
    "colab": {
     "base_uri": "https://localhost:8080/"
    },
    "executionInfo": {
     "elapsed": 154,
     "status": "ok",
     "timestamp": 1643045296144,
     "user": {
      "displayName": "Wesley Beckner",
      "photoUrl": "https://lh3.googleusercontent.com/a-/AOh14GjSrSNC5ljFK1tVytNJhengi6L9T_zjAvSSfuo3ug=s64",
      "userId": "17051665784581118920"
     },
     "user_tz": 480
    },
    "id": "Hty9Jez9797t",
    "outputId": "ccec62dc-76cb-4f3a-c1bd-2a07aa0b22c2"
   },
   "outputs": [
    {
     "name": "stderr",
     "output_type": "stream",
     "text": [
      "/usr/local/lib/python3.7/dist-packages/ipykernel_launcher.py:3: VisibleDeprecationWarning: Reading unicode strings without specifying the encoding argument is deprecated. Set the encoding, use None for the system default.\n",
      "  This is separate from the ipykernel package so we can avoid doing imports until\n"
     ]
    },
    {
     "data": {
      "text/plain": [
       "(150,)"
      ]
     },
     "execution_count": 7,
     "metadata": {},
     "output_type": "execute_result"
    }
   ],
   "source": [
    "# cell for Q4\n",
    "url = 'https://archive.ics.uci.edu/ml/machine-learning-databases/iris/iris.data'\n",
    "iris_data = np.genfromtxt(url, delimiter=',', dtype=None)\n",
    "iris_data.shape"
   ]
  },
  {
   "cell_type": "markdown",
   "metadata": {
    "id": "bpA_O5Q-9Cv1"
   },
   "source": [
    "## 🧮 L6 Q5\n",
    "\n",
    "Now insert np.nan in 20 random positions in the 2D `iris_data` using `random.randint`"
   ]
  },
  {
   "cell_type": "code",
   "execution_count": null,
   "metadata": {
    "id": "PaSmqL099Ff7"
   },
   "outputs": [],
   "source": [
    "# cell for Q5"
   ]
  },
  {
   "cell_type": "markdown",
   "metadata": {
    "id": "ivAKNmlK-Q-L"
   },
   "source": [
    "## 🧮 L6 Q6\n",
    "\n",
    "Now find the total number and position of missing values in `iris_data`\n",
    "\n",
    "Note: NumPy designed nan so that nan == nan returns False, but nan != nan returns True.\n",
    "\n",
    "```\n",
    "np.nan == np.nan\n",
    "## False\n",
    "np.nan != np.nan\n",
    "## True\n",
    "\n",
    "```\n",
    "\n",
    "> This is because equivalence between missing or invalid values is not well defined. In practice, this behavior prevents silent bugs from creeping into your program.\n",
    "\n",
    "In order to see which elements of bot are nan, you can use `np.isnan()` function."
   ]
  },
  {
   "cell_type": "code",
   "execution_count": null,
   "metadata": {
    "id": "SSWJEdJO-Azi"
   },
   "outputs": [],
   "source": [
    "# cell for Q6"
   ]
  },
  {
   "cell_type": "markdown",
   "metadata": {
    "id": "w__0vO9f_Hoj"
   },
   "source": [
    "## 🧮 L6 Q7\n",
    "\n",
    "Filter the rows of `iris_data` that has `petallength (3rd column) > 1.5` and `sepallength (1st column) < 5.0`"
   ]
  },
  {
   "cell_type": "code",
   "execution_count": null,
   "metadata": {
    "id": "NiQB_GNd-2-K"
   },
   "outputs": [],
   "source": [
    "# cell for Q7"
   ]
  },
  {
   "cell_type": "markdown",
   "metadata": {
    "id": "sNYgd1EtJy1p"
   },
   "source": [
    "## 🧮 L6 Q8\n",
    "\n",
    "Select the rows of `iris_data` that do not have any `nan` values"
   ]
  },
  {
   "cell_type": "code",
   "execution_count": null,
   "metadata": {
    "id": "IP3dOMWRJ5Ar"
   },
   "outputs": [],
   "source": [
    "# cell for Q8"
   ]
  },
  {
   "cell_type": "markdown",
   "metadata": {
    "id": "UultwZ8oAAd3"
   },
   "source": [
    "## 🧮 L6 Q9\n",
    "\n",
    "compute the mean, median, and standard deviation of `sepallength`\n",
    "\n",
    "url = 'https://archive.ics.uci.edu/ml/machine-learning-databases/iris/iris.data'\n",
    "iris = np.genfromtxt(url, delimiter=',', dtype='object')\n",
    "sepallength = np.genfromtxt(url, delimiter=',', dtype='float', usecols=[0])"
   ]
  },
  {
   "cell_type": "code",
   "execution_count": null,
   "metadata": {
    "id": "5hjI4WQR_LDw"
   },
   "outputs": [],
   "source": [
    "# cell for Q9\n",
    "url = 'https://archive.ics.uci.edu/ml/machine-learning-databases/iris/iris.data'\n",
    "iris = np.genfromtxt(url, delimiter=',', dtype='object')\n",
    "sepallength = np.genfromtxt(url, delimiter=',', dtype='float', usecols=[0])"
   ]
  },
  {
   "cell_type": "markdown",
   "metadata": {
    "id": "s0VPNi_wATOD"
   },
   "source": [
    "## 🧮 L6 Q10\n",
    "\n",
    "normalize sepallength so that all values occur between 0 and 1\n",
    "\n",
    "(_hint: (observation - min / (max - min))_)"
   ]
  },
  {
   "cell_type": "code",
   "execution_count": null,
   "metadata": {
    "id": "oUBdeGgGAvpg"
   },
   "outputs": [],
   "source": [
    "# cell for Q10"
   ]
  },
  {
   "cell_type": "markdown",
   "metadata": {
    "id": "DXHEJnBaAmYJ"
   },
   "source": [
    "## 🧮 L6 Q11\n",
    "\n",
    "calculate the 95 percentile score of `sepallength` using `np.percentile`"
   ]
  },
  {
   "cell_type": "code",
   "execution_count": null,
   "metadata": {
    "id": "lHuCe-M1AFxG"
   },
   "outputs": [],
   "source": [
    "# cell for Q11"
   ]
  },
  {
   "cell_type": "markdown",
   "metadata": {
    "id": "rkRuRB72A3hv"
   },
   "source": [
    "Complete additional exercises if you wish at [machinelearningplus](https://www.machinelearningplus.com/python/101-numpy-exercises-python/)"
   ]
  }
 ],
 "metadata": {
  "colab": {
   "authorship_tag": "ABX9TyMfhRan32cUiMl7T3J+11WU",
   "collapsed_sections": [],
   "name": "E5_Numpy.ipynb",
   "provenance": []
  },
  "kernelspec": {
   "display_name": "Python 3 (ipykernel)",
   "language": "python",
   "name": "python3"
  },
  "language_info": {
   "codemirror_mode": {
    "name": "ipython",
    "version": 3
   },
   "file_extension": ".py",
   "mimetype": "text/x-python",
   "name": "python",
   "nbconvert_exporter": "python",
   "pygments_lexer": "ipython3",
   "version": "3.9.7"
  }
 },
 "nbformat": 4,
 "nbformat_minor": 4
}
