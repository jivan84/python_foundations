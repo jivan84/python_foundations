{
  "cells": [
    {
      "cell_type": "markdown",
      "metadata": {
        "colab_type": "text",
        "id": "view-in-github"
      },
      "source": [
        "<a href=\"https://colab.research.google.com/github/wesleybeckner/python_foundations/blob/main/notebooks/labs/L4_Pandas.ipynb\" target=\"_parent\"><img src=\"https://colab.research.google.com/assets/colab-badge.svg\" alt=\"Open In Colab\"/></a>"
      ]
    },
    {
      "cell_type": "markdown",
      "metadata": {
        "id": "3rZ3ZWSkhxyS"
      },
      "source": [
        "# Python Foundations, Lab 4: Practice with Pandas\n",
        "\n",
        "**Instructor**: Wesley Beckner\n",
        "\n",
        "**Contact**: wesleybeckner@gmail.com\n",
        "\n",
        "**Solved**: [notebook](https://wesleybeckner.github.io/python_foundations/solutions/SOLN_L4_Pandas/)\n",
        "<br>\n",
        "\n",
        "---\n",
        "\n",
        "<br>\n",
        "\n",
        "In this lab we will continue to practice manipulating pandas DataFrames.\n",
        "\n",
        "<br>\n",
        "\n",
        "---\n",
        "\n",
        "\n"
      ]
    },
    {
      "cell_type": "code",
      "execution_count": null,
      "metadata": {
        "id": "LJA6mdY4Cl1r"
      },
      "outputs": [],
      "source": [
        "import pandas as pd\n",
        "import numpy as np"
      ]
    },
    {
      "cell_type": "markdown",
      "metadata": {
        "id": "0PPaZvlct0fH"
      },
      "source": [
        "## 🐼 L4 Q1 \n",
        "\n",
        "Convert the two series into the columns of a DataFrame"
      ]
    },
    {
      "cell_type": "code",
      "execution_count": null,
      "metadata": {
        "id": "9lphFb2ksnEC"
      },
      "outputs": [],
      "source": [
        "ser1 = pd.Series(list('abcedfghijklmnopqrstuvwxyz'))\n",
        "ser2 = pd.Series([i for i in range(26)])"
      ]
    },
    {
      "cell_type": "markdown",
      "metadata": {
        "id": "0gi9EjLNuLGK"
      },
      "source": [
        "## 🐼 L4 Q2\n",
        "\n",
        "Convert the series into a DataFrame with 7 rows and 5 columns"
      ]
    },
    {
      "cell_type": "code",
      "execution_count": null,
      "metadata": {
        "id": "EXkjgWoOt395"
      },
      "outputs": [],
      "source": [
        "ser = pd.Series(np.random.randint(1, 10, 35))"
      ]
    },
    {
      "cell_type": "markdown",
      "metadata": {
        "id": "HK6nG-UPuvkT"
      },
      "source": [
        "## 🐼 L4 Q3\n",
        "\n",
        "Compute the difference of differences between consecutive numbers in a series using `ser.diff()`\n"
      ]
    },
    {
      "cell_type": "code",
      "execution_count": null,
      "metadata": {
        "id": "kAh1JuzOu1A6"
      },
      "outputs": [],
      "source": [
        "ser = pd.Series([1, 3, 6, 10, 15, 21, 27, 35])"
      ]
    },
    {
      "cell_type": "markdown",
      "metadata": {
        "id": "08Phen9ru9fb"
      },
      "source": [
        "## 🐼 L4 Q4 \n",
        "\n",
        "Convert a series of dates to `datetime` format using `pd.to_datetime()`"
      ]
    },
    {
      "cell_type": "code",
      "execution_count": null,
      "metadata": {
        "id": "kz7TvktXu1ai"
      },
      "outputs": [],
      "source": [
        "ser = pd.Series(['01 Jan 2010', '02-02-2011', '20120303', '2013/04/04', '2014-05-05', '2015-06-06T12:20'])"
      ]
    },
    {
      "cell_type": "markdown",
      "metadata": {
        "id": "Yt6pOFN818x_"
      },
      "source": [
        "## 🐼 L4 Q5\n",
        "\n",
        "Compute the mean of weights grouped by fruit\n"
      ]
    },
    {
      "cell_type": "code",
      "execution_count": null,
      "metadata": {
        "colab": {
          "base_uri": "https://localhost:8080/"
        },
        "id": "KFdCPjZWvEy_",
        "outputId": "045abf56-082b-4645-c05c-d473915e54e1"
      },
      "outputs": [
        {
          "name": "stdout",
          "output_type": "stream",
          "text": [
            "[1.0, 2.0, 3.0, 4.0, 5.0, 6.0, 7.0, 8.0, 9.0, 10.0]\n",
            "['banana', 'banana', 'banana', 'carrot', 'carrot', 'carrot', 'carrot', 'carrot', 'banana', 'banana']\n"
          ]
        }
      ],
      "source": [
        "fruit = pd.Series(np.random.choice(['apple', 'banana', 'carrot'], 10))\n",
        "weights = pd.Series(np.linspace(1, 10, 10))\n",
        "print(weights.tolist())\n",
        "print(fruit.tolist())"
      ]
    },
    {
      "cell_type": "markdown",
      "metadata": {
        "id": "zYiorbGjNWtB"
      },
      "source": [
        "## 🐼 L4 Q6\n",
        "\n",
        "Compute the euclidian distance between vectors p and q \n",
        "\n",
        "> Euclidean distance is calculated as the square root of the sum of the squared differences between the two vectors\n",
        "\n",
        "This is related to the [L2 vector norm](https://machinelearningmastery.com/vector-norms-machine-learning/)"
      ]
    },
    {
      "cell_type": "code",
      "execution_count": null,
      "metadata": {
        "id": "znZ7EfIWNWtH"
      },
      "outputs": [],
      "source": [
        "import math\n",
        "p = pd.Series([1, 2, 3, 4, 5, 6, 7, 8, 9, 10])\n",
        "q = pd.Series([10, 9, 8, 7, 6, 5, 4, 3, 2, 1])"
      ]
    },
    {
      "cell_type": "markdown",
      "metadata": {
        "id": "HWuS2x092yxA"
      },
      "source": [
        "## 🐼 L4 Q7\n",
        "\n",
        "Fill in missing values for dates with the previous dates' value using `ser.bfill()` or `ser.ffill()`"
      ]
    },
    {
      "cell_type": "code",
      "execution_count": null,
      "metadata": {
        "colab": {
          "base_uri": "https://localhost:8080/"
        },
        "id": "HO0gcmvJ2ObL",
        "outputId": "61f7bc19-0085-4a27-a7c7-f02b4c94445f"
      },
      "outputs": [
        {
          "name": "stdout",
          "output_type": "stream",
          "text": [
            "2000-01-01     1.0\n",
            "2000-01-03    10.0\n",
            "2000-01-06     3.0\n",
            "2000-01-08     NaN\n",
            "dtype: float64\n"
          ]
        }
      ],
      "source": [
        "ser = pd.Series([1,10,3,np.nan], index=pd.to_datetime(['2000-01-01', '2000-01-03', '2000-01-06', '2000-01-08']))\n",
        "print(ser)"
      ]
    },
    {
      "cell_type": "markdown",
      "metadata": {
        "id": "x1H949kQ3dvJ"
      },
      "source": [
        "## 🐼 L4 Q8\n",
        "\n",
        "Check if there are missing values in each column of a dataframe using `.isnull()`, and `.any()`"
      ]
    },
    {
      "cell_type": "code",
      "execution_count": null,
      "metadata": {
        "id": "N12aXr6v24cu"
      },
      "outputs": [],
      "source": [
        "df = pd.read_csv('https://raw.githubusercontent.com/selva86/datasets/master/Cars93_miss.csv')"
      ]
    },
    {
      "cell_type": "markdown",
      "metadata": {
        "id": "EboeGY0p4mb7"
      },
      "source": [
        "## 🐼 L4 Q9\n",
        "\n",
        "Grab the first column and return it as a DataFrame rather than as a series"
      ]
    },
    {
      "cell_type": "code",
      "execution_count": null,
      "metadata": {
        "id": "LMpa73403jce"
      },
      "outputs": [],
      "source": [
        "df = pd.DataFrame(np.arange(20).reshape(-1, 5), columns=list('abcde'))"
      ]
    },
    {
      "cell_type": "markdown",
      "metadata": {
        "id": "EdgvQfqq4vux"
      },
      "source": [
        "## 🐼 L4 Q10\n",
        "\n",
        "In `df`, interchange columns 'a' and 'c'."
      ]
    },
    {
      "cell_type": "code",
      "execution_count": null,
      "metadata": {
        "id": "d5Oz2gzL4pz2"
      },
      "outputs": [],
      "source": [
        "df = pd.DataFrame(np.arange(20).reshape(-1, 5), columns=list('abcde'))"
      ]
    }
  ],
  "metadata": {
    "colab": {
      "collapsed_sections": [],
      "include_colab_link": true,
      "name": "E4_Pandas.ipynb",
      "provenance": []
    },
    "kernelspec": {
      "display_name": "Python 3",
      "name": "python3"
    },
    "language_info": {
      "name": "python"
    }
  },
  "nbformat": 4,
  "nbformat_minor": 0
}
