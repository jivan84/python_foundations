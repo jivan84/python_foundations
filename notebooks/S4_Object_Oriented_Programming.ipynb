{
  "cells": [
    {
      "cell_type": "markdown",
      "metadata": {
        "id": "view-in-github",
        "colab_type": "text"
      },
      "source": [
        "<a href=\"https://colab.research.google.com/github/wesleybeckner/python_foundations/blob/main/notebooks/S4_Object_Oriented_Programming.ipynb\" target=\"_parent\"><img src=\"https://colab.research.google.com/assets/colab-badge.svg\" alt=\"Open In Colab\"/></a>"
      ]
    },
    {
      "cell_type": "markdown",
      "metadata": {
        "id": "E5cwBluhFWw4"
      },
      "source": [
        "# Python Foundations, Session 4: Object Oriented Programming\n",
        "**Instructor**: Wesley Beckner\n",
        "\n",
        "**Contact**: wesleybeckner@gmail.com\n",
        "\n",
        "**Recording**: [Video (41 min)](https://www.youtube.com/watch?v=lsf-Q40B2Q8&list=PLVaoNV0aHKna2L3wY1DVuB9rVvhSG3ity&index=4)\n",
        "\n",
        "<br>\n",
        "\n",
        "---\n",
        "\n",
        "<br>\n",
        "\n",
        "Today we'll be discussing a very important concept through all of programming: how to be object-oriented.\n",
        "\n",
        "<br>\n",
        "\n",
        "---\n"
      ]
    },
    {
      "cell_type": "markdown",
      "metadata": {
        "id": "1_SHD8I8-ir2"
      },
      "source": [
        "## 4.1: Object Oriented Programming"
      ]
    },
    {
      "cell_type": "markdown",
      "metadata": {
        "id": "lGbWAzdgx0bj"
      },
      "source": [
        "### 4.1.1 Classes, Instances, Methods, and Attribtues\n",
        "\n",
        "A class is created with the reserved word `class`\n",
        "\n",
        "A class can have attributes. You can think of these as charateristics that describe the object."
      ]
    },
    {
      "cell_type": "code",
      "execution_count": null,
      "metadata": {
        "id": "4diol9OSxrXY"
      },
      "outputs": [],
      "source": [
        "# define a class\n",
        "class MyClass:\n",
        "  some_attribute = 5"
      ]
    },
    {
      "cell_type": "markdown",
      "metadata": {
        "id": "eyAe363HyC5j"
      },
      "source": [
        "Defining a class in the above way, creates a **_blueprint_**. We use the **_class blueprint_** _MyClass_ to create an **_instance_**. And after we do so, we can now access attributes belonging to that class:"
      ]
    },
    {
      "cell_type": "code",
      "execution_count": null,
      "metadata": {
        "colab": {
          "base_uri": "https://localhost:8080/"
        },
        "id": "HYjA4eZ0xvCK",
        "outputId": "75a11097-727f-49ec-a73b-3f7096d13572"
      },
      "outputs": [
        {
          "data": {
            "text/plain": [
              "5"
            ]
          },
          "execution_count": 2,
          "metadata": {},
          "output_type": "execute_result"
        }
      ],
      "source": [
        "# create instance\n",
        "instance = MyClass()\n",
        "\n",
        "# access attributes of the instance of MyClass\n",
        "instance.some_attribute"
      ]
    },
    {
      "cell_type": "markdown",
      "metadata": {
        "id": "LzrLCHlLyvI5"
      },
      "source": [
        "attributes can be changed:"
      ]
    },
    {
      "cell_type": "code",
      "execution_count": null,
      "metadata": {
        "colab": {
          "base_uri": "https://localhost:8080/"
        },
        "id": "VGO4FvfNyqIO",
        "outputId": "0db18a52-b70e-4d90-862f-abb99c85aeee"
      },
      "outputs": [
        {
          "data": {
            "text/plain": [
              "50"
            ]
          },
          "execution_count": 3,
          "metadata": {},
          "output_type": "execute_result"
        }
      ],
      "source": [
        "instance.some_attribute = 50\n",
        "instance.some_attribute"
      ]
    },
    {
      "cell_type": "markdown",
      "metadata": {
        "id": "eyil-yV71FF8"
      },
      "source": [
        "In practice we always use the `__init__()` function, which is executed when the class is being initiated. This is the pythonic way to be _explicit_ about initializing the attributes of our class\n",
        "\n",
        "> Upon investigation, you will find that the trouble with _not_ using the `__init__()` method is that your attributes are not guaranteed to be initialized upon creation of the object from the class blueprint"
      ]
    },
    {
      "cell_type": "code",
      "execution_count": null,
      "metadata": {
        "id": "GfWsMxK01FZ9"
      },
      "outputs": [],
      "source": [
        "# define a class\n",
        "class MyClass:\n",
        "  # we define our __init__ method that is called when the object is initialized\n",
        "  def __init__(self): # we pass in the reserved word self\n",
        "    # we reference the current object of the class via the self parameter\n",
        "    # and set its attributes \n",
        "    self.some_attribute = 5"
      ]
    },
    {
      "cell_type": "markdown",
      "metadata": {
        "id": "OtJHvQi61Ry2"
      },
      "source": [
        "When we use `__init__`, we also have to make use of a special reserved word in python: `self`. The `self` parameter refers to the _current_ instance of the class. In other words, when the object is declared, it will refer to that specific object in memory and not _all_ instances of the class in question. This is yet another pythonic way of being explicit.\n",
        "\n",
        "> what is the special keyword [`self`](http://neopythonic.blogspot.com/2008/10/why-explicit-self-has-to-stay.html) doing, do we really need it? Read more about the philosophy of _the self_ by visiting the link!"
      ]
    },
    {
      "cell_type": "markdown",
      "metadata": {
        "id": "kRwuV7gay0hX"
      },
      "source": [
        "Let's practice class declaration now, in the context of Pokeballs\n",
        "\n",
        "<br>\n",
        "\n",
        "<p align=center>\n",
        "<img src=\"https://raw.githubusercontent.com/wesleybeckner/python_foundations/main/assets/pokeballs.png\"></img>\n",
        "</p>"
      ]
    },
    {
      "cell_type": "markdown",
      "metadata": {
        "id": "sr1k1BUg2OGS"
      },
      "source": [
        "We have a lot of different kinds of Poke balls! This is going to help us understand some of the powerful mechanisms inherit in python classes! \n",
        "\n",
        "Let's start by defining a class to describe the simple, standard Poke ball. It will have the following attributes:\n",
        "\n",
        "* `contains` the name of the pokemon contained in the Poke ball. Default value is `None`\n",
        "* `type_name` the type of Poke ball. Default value is `\"Poke ball\"`\n",
        "* `catch_rate` the probability of a successful catch upon throwing the Poke ball. The default value is `0.5` and the user will not be able to set the value of this object.\n",
        "\n",
        "Let's take a look at how we do this:"
      ]
    },
    {
      "cell_type": "code",
      "execution_count": null,
      "metadata": {
        "id": "tZWgIm_ky_-l"
      },
      "outputs": [],
      "source": [
        "# define the class in the standard way via the reserved word class\n",
        "class Pokeball:\n",
        "\n",
        "  # define the init method pass in the \"self\" and any attributes that will\n",
        "  # be definable upon initialization of the object\n",
        "  def __init__(self, contains=None, type_name=\"Poke ball\"):\n",
        "\n",
        "    # now set the attributes of the object via the self\n",
        "    self.contains = contains\n",
        "    self.type_name = type_name\n",
        "    self.catch_rate = 0.50 # note this attribute is not accessible upon init"
      ]
    },
    {
      "cell_type": "code",
      "execution_count": null,
      "metadata": {
        "id": "wOyNv0DEzVG8"
      },
      "outputs": [],
      "source": [
        "# empty Poke ball\n",
        "pokeball1 = Pokeball()\n",
        "\n",
        "# used Poke ball of a different type\n",
        "pokeball1 = Pokeball(\"Pikachu\", \"Master ball\")"
      ]
    },
    {
      "cell_type": "markdown",
      "metadata": {
        "id": "Yx3lj0A98KQ2"
      },
      "source": [
        "### 🙋 Question 1: What are the parameters of `Pokeball`?\n",
        "\n",
        "Note that, were we to run the following cell, we would get an error. Why would we get an error?"
      ]
    },
    {
      "cell_type": "code",
      "execution_count": null,
      "metadata": {
        "id": "Kf4QZPUT7kst"
      },
      "outputs": [],
      "source": [
        "# Pokeball(\"Charmander\", \"Poke ball\", catch_rate=0.5)"
      ]
    },
    {
      "cell_type": "markdown",
      "metadata": {
        "id": "iSVpDrjQz_gB"
      },
      "source": [
        "classes can also contain methods. I'm going to introduce a new method `catch` that is used to catch new pokemon. It will have a random chance of success and, additionally, it will only work if the Poke ball is empty."
      ]
    },
    {
      "cell_type": "code",
      "execution_count": null,
      "metadata": {
        "id": "s58qSx8f0AsF"
      },
      "outputs": [],
      "source": [
        "import random\n",
        "\n",
        "class Pokeball:\n",
        "  def __init__(self, contains=None, type_name=\"Poke ball\"):\n",
        "    self.contains = contains\n",
        "    self.type_name = type_name\n",
        "    self.catch_rate = 0.50 # note this attribute is not accessible upon init\n",
        "\n",
        "  # the method catch, will update self.contains, if a catch is successful\n",
        "  # it will also use self.catch_rate to set the performance of the catch\n",
        "  def catch(self, pokemon):\n",
        "    if self.contains == None:\n",
        "      if random.random() < self.catch_rate:\n",
        "        self.contains = pokemon\n",
        "        print(f\"{pokemon} captured!\")\n",
        "      else:\n",
        "        print(f\"{pokemon} escaped!\")\n",
        "        pass\n",
        "    else:\n",
        "      print(\"Poke ball is not empty!\")\n"
      ]
    },
    {
      "cell_type": "markdown",
      "metadata": {
        "id": "RChJMODQANYT"
      },
      "source": [
        "We can envoke the `catch` method the same way we would return the attribute of an object - by running `<object>.method()`. Note that, because this is a method, we must use `()`, the same way we use `()` with functions. Inside the `()` we pass any necessary parameters. In this case we will pass the name of the Pokemon we are trying to catch:"
      ]
    },
    {
      "cell_type": "code",
      "execution_count": null,
      "metadata": {
        "colab": {
          "base_uri": "https://localhost:8080/"
        },
        "id": "zCDW85Vu16_q",
        "outputId": "b3c8db14-74ab-48b8-d3ce-896d76da4a7a"
      },
      "outputs": [
        {
          "name": "stdout",
          "output_type": "stream",
          "text": [
            "picachu captured!\n"
          ]
        }
      ],
      "source": [
        "pokeball = Pokeball()\n",
        "pokeball.catch(\"picachu\")"
      ]
    },
    {
      "cell_type": "code",
      "execution_count": null,
      "metadata": {
        "colab": {
          "base_uri": "https://localhost:8080/"
        },
        "id": "Ri7l-oPmYhtZ",
        "outputId": "d0e95d0b-7c59-4225-ee49-e7fd2eee6fba"
      },
      "outputs": [
        {
          "name": "stdout",
          "output_type": "stream",
          "text": [
            "picachu\n"
          ]
        }
      ],
      "source": [
        "print(pokeball.contains)"
      ]
    },
    {
      "cell_type": "markdown",
      "metadata": {
        "id": "8aUv9IhPTELO"
      },
      "source": [
        "###  🙋 Question 2: How does `catch_rate` work?\n",
        "How often will `success` print to the output when we run the cell below?"
      ]
    },
    {
      "cell_type": "code",
      "execution_count": null,
      "metadata": {
        "id": "isuhh2y8TELO"
      },
      "outputs": [],
      "source": [
        "if random.random() < 0.5: # here I've replaced catch_rate with the hardcoded value 0.5\n",
        "    print('success')"
      ]
    },
    {
      "cell_type": "markdown",
      "metadata": {
        "id": "GA0l_pwYn9g1"
      },
      "source": [
        "### 🏋️ Exercise 1: Write a Method\n",
        "\n",
        "Create a release method for the class Pokeball:"
      ]
    },
    {
      "cell_type": "code",
      "execution_count": null,
      "metadata": {
        "id": "a7DGaOajxDxA"
      },
      "outputs": [],
      "source": [
        "# Cell for Exercise 1\n",
        "import random\n",
        "\n",
        "class Pokeball:\n",
        "  def __init__(self, contains=None, type_name=\"Poke ball\"):\n",
        "    self.contains = contains\n",
        "    self.type_name = type_name\n",
        "    self.catch_rate = 0.50 # note this attribute is not accessible upon init\n",
        "\n",
        "  def catch(self, pokemon):\n",
        "    \"\"\"\n",
        "    Used to catch Pokemon with an empty Poke ball. Has a probabilistic chance of\n",
        "    success.\n",
        "    \"\"\"\n",
        "    if self.contains == None:\n",
        "      if random.random() < self.catch_rate:\n",
        "        self.contains = pokemon\n",
        "        print(f\"{pokemon} captured!\")\n",
        "      else:\n",
        "        print(f\"{pokemon} escaped!\")\n",
        "        pass\n",
        "    else:\n",
        "      print(\"Poke ball is not empty!\")\n",
        "\n",
        "  def release(self):\n",
        "    pass"
      ]
    },
    {
      "cell_type": "markdown",
      "metadata": {
        "id": "xlroMtwOPg5o"
      },
      "source": [
        "### 4.1.2 Inheritance\n",
        "\n",
        "Inheritance allows you to adopt into a child class, the methods and attributes of a parent class. We inherit a parent class by passing it into the child class:"
      ]
    },
    {
      "cell_type": "code",
      "execution_count": null,
      "metadata": {
        "id": "6q05bsBl5Mqx"
      },
      "outputs": [],
      "source": [
        "# Pokeball is the parent class and Masterball is the child class\n",
        "class Masterball(Pokeball):\n",
        "  pass"
      ]
    },
    {
      "cell_type": "markdown",
      "metadata": {
        "id": "IKjoLavmLakY"
      },
      "source": [
        "Once we declare an object of the child class. We will have access to all of the parent class attributes. In this case, masterball will inherit the type_name of \"Poke ball\" from the Pokeball class:"
      ]
    },
    {
      "cell_type": "code",
      "execution_count": null,
      "metadata": {
        "colab": {
          "base_uri": "https://localhost:8080/",
          "height": 35
        },
        "id": "Q_IonrbT5TE-",
        "outputId": "b60e54ed-8f16-4f71-d5b4-6ce15f06a0c1"
      },
      "outputs": [
        {
          "data": {
            "application/vnd.google.colaboratory.intrinsic+json": {
              "type": "string"
            },
            "text/plain": [
              "'Poke ball'"
            ]
          },
          "execution_count": 31,
          "metadata": {},
          "output_type": "execute_result"
        }
      ],
      "source": [
        "masterball = Masterball()\n",
        "masterball.type_name"
      ]
    },
    {
      "cell_type": "markdown",
      "metadata": {
        "id": "f52XzgDq5Z1y"
      },
      "source": [
        "HMMM we don't like that type name because this is not a regular-old Poke ball anymore. It is a Master ball! \n",
        "\n",
        "Let's make sure we change some of the inherited attributes. \n",
        "\n",
        "We'll do this again with the `__init__` function"
      ]
    },
    {
      "cell_type": "code",
      "execution_count": null,
      "metadata": {
        "id": "U2MTeZul5WXx"
      },
      "outputs": [],
      "source": [
        "# we still pass Pokeball into Masterball\n",
        "class Masterball(Pokeball):\n",
        "\n",
        "  # now we pass into the init method the class attribute values we actually\n",
        "  # desire, instead of just inheriting them from the parent class\n",
        "  def __init__(self, contains=None, type_name=\"Masterball\", catch_rate=0.8):\n",
        "    self.contains = contains\n",
        "    self.type_name = type_name\n",
        "    self.catch_rate = catch_rate"
      ]
    },
    {
      "cell_type": "code",
      "execution_count": null,
      "metadata": {
        "colab": {
          "base_uri": "https://localhost:8080/",
          "height": 35
        },
        "id": "wM7-5DuE5zh-",
        "outputId": "99ecf937-0408-405a-84bb-e92bc23d37ce"
      },
      "outputs": [
        {
          "data": {
            "application/vnd.google.colaboratory.intrinsic+json": {
              "type": "string"
            },
            "text/plain": [
              "'Masterball'"
            ]
          },
          "execution_count": 33,
          "metadata": {},
          "output_type": "execute_result"
        }
      ],
      "source": [
        "masterball = Masterball()\n",
        "masterball.type_name"
      ]
    },
    {
      "cell_type": "code",
      "execution_count": null,
      "metadata": {
        "colab": {
          "base_uri": "https://localhost:8080/"
        },
        "id": "-z74AAD651zw",
        "outputId": "ea33b9c7-bb52-48a8-838c-3b5fae3cd0b3"
      },
      "outputs": [
        {
          "name": "stdout",
          "output_type": "stream",
          "text": [
            "charmander captured!\n"
          ]
        }
      ],
      "source": [
        "masterball.catch(\"charmander\")"
      ]
    },
    {
      "cell_type": "markdown",
      "metadata": {
        "id": "dF5ZWnZd6QEL"
      },
      "source": [
        "We can also write this, this way:"
      ]
    },
    {
      "cell_type": "code",
      "execution_count": null,
      "metadata": {
        "id": "HZo6i-Xi61rt"
      },
      "outputs": [],
      "source": [
        "class Masterball(Pokeball):\n",
        "  def __init__(self, contains=None, type_name=\"Masterball\"):\n",
        "    # instead of rewriting all of the self.<attribute> commands, we can access\n",
        "    # the init method from the parent class (where those commands are already\n",
        "    # declared)\n",
        "    Pokeball.__init__(self, contains, type_name)\n",
        "    self.catch_rate = 0.8"
      ]
    },
    {
      "cell_type": "code",
      "execution_count": null,
      "metadata": {
        "colab": {
          "base_uri": "https://localhost:8080/",
          "height": 35
        },
        "id": "jYpkaGHn6FNN",
        "outputId": "23876a59-085f-4530-8127-4d27dff8d92d"
      },
      "outputs": [
        {
          "data": {
            "application/vnd.google.colaboratory.intrinsic+json": {
              "type": "string"
            },
            "text/plain": [
              "'Masterball'"
            ]
          },
          "execution_count": 36,
          "metadata": {},
          "output_type": "execute_result"
        }
      ],
      "source": [
        "masterball = Masterball()\n",
        "masterball.type_name"
      ]
    },
    {
      "cell_type": "code",
      "execution_count": null,
      "metadata": {
        "colab": {
          "base_uri": "https://localhost:8080/"
        },
        "id": "3EuqUiKH7B0A",
        "outputId": "73eb9786-683a-4eef-90fc-2eeaaf6140d6"
      },
      "outputs": [
        {
          "name": "stdout",
          "output_type": "stream",
          "text": [
            "charmander captured!\n"
          ]
        }
      ],
      "source": [
        "masterball = Masterball()\n",
        "masterball.catch(\"charmander\")"
      ]
    },
    {
      "cell_type": "markdown",
      "metadata": {
        "id": "VkTjVYsW7xf1"
      },
      "source": [
        "The keyword `super` will let us write even more succintly:"
      ]
    },
    {
      "cell_type": "code",
      "execution_count": null,
      "metadata": {
        "id": "sCfDRHXz7wqL"
      },
      "outputs": [],
      "source": [
        "class Masterball(Pokeball):\n",
        "  def __init__(self, contains=None, type_name=\"Masterball\"):\n",
        "    # super() is taking the namespace of the parent class, note that with this \n",
        "    # mechanism we no longer have to pass in the self attribute \n",
        "    super().__init__(contains, type_name)\n",
        "    self.catch_rate = 0.8"
      ]
    },
    {
      "cell_type": "code",
      "execution_count": null,
      "metadata": {
        "colab": {
          "base_uri": "https://localhost:8080/"
        },
        "id": "1N6xI77874K-",
        "outputId": "cb5b6bde-8cd6-4222-c806-3afae4f33db5"
      },
      "outputs": [
        {
          "name": "stdout",
          "output_type": "stream",
          "text": [
            "charmander captured!\n"
          ]
        }
      ],
      "source": [
        "masterball = Masterball()\n",
        "masterball.catch(\"charmander\")"
      ]
    },
    {
      "cell_type": "markdown",
      "metadata": {
        "id": "EaqZLU3z8Dm8"
      },
      "source": [
        "### 🏋️ Exercise 2: Create a Class\n",
        "\n",
        "Write another class object called `GreatBall` that inherits the properties of `Pokeball`, has a `catch_rate` of 0.6, and `type_name` of Greatball"
      ]
    },
    {
      "cell_type": "code",
      "execution_count": null,
      "metadata": {
        "id": "MpxF5ep_75Gr"
      },
      "outputs": [],
      "source": [
        "# Cell for Exercise 2"
      ]
    },
    {
      "cell_type": "markdown",
      "metadata": {
        "id": "9Bc6WKcJPu_U"
      },
      "source": [
        "### 4.1.3 Interacting Objects\n",
        "\n",
        "As our application becomes more complex, we may have to rethink what methods and attributes are appropriate for our objects to deliver the overall functionality we desire. This is where form and function meet."
      ]
    },
    {
      "cell_type": "markdown",
      "metadata": {
        "id": "3f85jPuZ80ok"
      },
      "source": [
        "### 🏋️ Exercise 3: Interacting with Objects\n",
        "\n",
        "Write another class object called `Pokemon`. It has the [attributes](https://bulbapedia.bulbagarden.net/wiki/Type):\n",
        "\n",
        "* name\n",
        "* weight\n",
        "* speed\n",
        "* element\n",
        "\n",
        "Now create a class object called `Fastball`, it inherits the properties of `Pokeball` but has a new condition on `catch` method: if pokemon.speed > 100 then there is 100% chance of catch success.\n",
        "\n",
        "> what changes do you have to make to the way we've been interacting with Poke ball to make this new requirement work?"
      ]
    },
    {
      "cell_type": "code",
      "execution_count": null,
      "metadata": {
        "id": "l0TF73H1BFy5"
      },
      "outputs": [],
      "source": [
        "# Cell for Exercise 3"
      ]
    },
    {
      "cell_type": "markdown",
      "metadata": {
        "id": "5KvW9o_-AzD4"
      },
      "source": [
        "### 🏋️ Exercise 4: Writing Tests\n",
        "\n",
        "In the above task, did you have to write any code to test that your new classes worked?! We will talk about that more at a later time, but for now, wrap any testing that you did into a new function called `test_classes` in the code cell below"
      ]
    },
    {
      "cell_type": "code",
      "execution_count": null,
      "metadata": {
        "id": "3uTkx94QBD1e"
      },
      "outputs": [],
      "source": [
        "# Cell for Exercise 4"
      ]
    }
  ],
  "metadata": {
    "colab": {
      "collapsed_sections": [],
      "name": "S4_Object_Oriented_Programming.ipynb",
      "provenance": [],
      "toc_visible": true,
      "include_colab_link": true
    },
    "kernelspec": {
      "display_name": "Python 3 (ipykernel)",
      "language": "python",
      "name": "python3"
    },
    "language_info": {
      "codemirror_mode": {
        "name": "ipython",
        "version": 3
      },
      "file_extension": ".py",
      "mimetype": "text/x-python",
      "name": "python",
      "nbconvert_exporter": "python",
      "pygments_lexer": "ipython3",
      "version": "3.9.7"
    }
  },
  "nbformat": 4,
  "nbformat_minor": 0
}